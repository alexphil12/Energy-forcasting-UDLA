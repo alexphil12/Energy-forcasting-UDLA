{
  "cells": [
    {
      "cell_type": "markdown",
      "metadata": {
        "id": "view-in-github",
        "colab_type": "text"
      },
      "source": [
        "<a href=\"https://colab.research.google.com/github/alexphil12/Energy-forcasting-UDLA/blob/main/Cnn_2D.ipynb\" target=\"_parent\"><img src=\"https://colab.research.google.com/assets/colab-badge.svg\" alt=\"Open In Colab\"/></a>"
      ]
    },
    {
      "cell_type": "code",
      "execution_count": 12,
      "metadata": {
        "id": "luj-JYGWxe5i"
      },
      "outputs": [],
      "source": [
        "import pandas as pd\n",
        "import matplotlib.pyplot as plt\n",
        "import numpy as np\n",
        "from sklearn.metrics import mean_squared_error\n",
        "from sklearn.metrics import mean_absolute_error\n",
        "from scipy import signal\n",
        "from scipy.fft import fftshift\n",
        "import matplotlib.pyplot as plt\n",
        "import numpy as np\n",
        "rng = np.random.default_rng()\n",
        "import tensorflow as tf\n",
        "import copy as cp"
      ]
    },
    {
      "cell_type": "code",
      "execution_count": 13,
      "metadata": {
        "id": "yaVbCBd2yDid"
      },
      "outputs": [],
      "source": [
        "from tensorflow import keras\n",
        "from keras.models import Sequential\n",
        "from keras.layers import Dense\n",
        "from keras.layers import Flatten\n",
        "from keras.layers import Conv2D\n",
        "from keras.layers import MaxPooling2D\n",
        "import tensorflow as tf\n",
        "from tensorflow.keras import datasets, layers, models\n",
        "import matplotlib.pyplot as plt\n",
        "import numpy as np\n",
        "from sklearn.preprocessing import MinMaxScaler\n",
        "import random as rd"
      ]
    },
    {
      "cell_type": "code",
      "source": [
        "from sklearn.preprocessing import MinMaxScaler"
      ],
      "metadata": {
        "id": "_f-GQ3neo4rM"
      },
      "execution_count": 14,
      "outputs": []
    },
    {
      "cell_type": "code",
      "execution_count": 15,
      "metadata": {
        "id": "CbOrO0fkxhWU"
      },
      "outputs": [],
      "source": [
        "df = pd.read_csv('/content/df_cov_continu_1_8.txt', index_col=0, parse_dates=True,sep=',')\n",
        "N=len(list(df.iloc[:,3]))\n",
        "df_train=df.iloc[0:round(N*0.8),:]\n",
        "df_test=df.iloc[round(N*0.8):N,:]"
      ]
    },
    {
      "cell_type": "code",
      "execution_count": 16,
      "metadata": {
        "id": "gKcNEgYHIiBc"
      },
      "outputs": [],
      "source": [
        "scaler = MinMaxScaler()"
      ]
    },
    {
      "cell_type": "code",
      "execution_count": 17,
      "metadata": {
        "id": "OHd_u-SSxhUB"
      },
      "outputs": [],
      "source": [
        "mesure=[\"Fecha\",\"Hora\"];\n",
        "mesure.append(\"Voltaje_(R)_[V]\")\t\n",
        "mesure.append(\"Voltaje_(S)_[V]\")\t\n",
        "mesure.append(\"Voltaje_(T)_[V]\")\t\n",
        "mesure.append(\"Voltaje_(RS)_[V]\")\t\n",
        "mesure.append(\"Voltaje_(ST)_[V]\")\t\n",
        "mesure.append(\"Voltaje_(TR)_[V]\")\t\n",
        "mesure.append(\"Corriente_R_[A]\")\t\n",
        "mesure.append(\"Corriente_S_[A]\")\t\n",
        "mesure.append(\"Corriente_T_[A]\")\t\n",
        "mesure.append(\"Potencia_R_[VA]\")\t\n",
        "mesure.append(\"Potencia_S_[VA]\")\t\n",
        "mesure.append(\"Potencia_T_[VA]\")\t\n",
        "mesure.append(\"Potencia_R_[W]\")\t\n",
        "mesure.append(\"Potencia_S_[W]\")\t\n",
        "mesure.append(\"Potencia_T_[W]\")\t\n",
        "mesure.append(\"Potencia_R_[VAR]\")\t\n",
        "mesure.append(\"Potencia_S_[VAR]\")\t\n",
        "mesure.append(\"Potencia_T_[VAR]\")\t\n",
        "mesure.append(\"Corriente_N_[A]\")\t\n",
        "mesure.append(\"Frecuencia_[Hz]\")\t\n",
        "mesure.append(\"not_sure_1\")\t\n",
        "mesure.append(\"not_sure_2\")\t\n",
        "mesure.append(\"not_sure_3\")\t\n",
        "mesure.append(\"Potencia_3F_[KVA]\")\t\n",
        "mesure.append(\"Potencia_3F_[W]\")\t\n",
        "mesure.append(\"Potencia_3F_[VAR]\")\t\n",
        "mesure.append(\"Factor de Potencia\")"
      ]
    },
    {
      "cell_type": "code",
      "execution_count": 18,
      "metadata": {
        "id": "dQpslFxCxhRq"
      },
      "outputs": [],
      "source": [
        "RSG_train = df_train[mesure[10]].values\n",
        "RSG_test=df_test[mesure[10]].values\n",
        "window_len=2500\n",
        "long=len(RSG_train)\n",
        "long_test=len(RSG_test)\n",
        "Q=long-window_len\n",
        "Q_test=long_test-window_len\n",
        "Spectro=np.zeros((1000,11,Q-1))\n",
        "Spectro_test=np.zeros((1000,11,Q_test-1))\n",
        "Y=[]\n",
        "Y_test=[]"
      ]
    },
    {
      "cell_type": "code",
      "execution_count": 19,
      "metadata": {
        "id": "EkxpB2bgxhPc"
      },
      "outputs": [],
      "source": [
        "\n",
        "Q=long-window_len\n",
        "scalers=[]\n",
        "for j in range(Q-1):\n",
        "  f, t, Sxx = signal.spectrogram(RSG_train[0+j:window_len+j], fs=1/120,nfft=2**13)\n",
        "  inter=20*np.log10(cp.deepcopy(Sxx[0:1000,:]))\n",
        "  Spectro[:,:,j]=inter\n",
        "  Y.append(RSG_train[window_len+j])\n",
        "  #plt.pcolormesh(t, f[0:1000], Spectro[:,:,j],cmap='jet')\n",
        "  #plt.ylabel('Frequency [Hz]')\n",
        "  #plt.xlabel('Time [sec]')\n",
        "  #plt.show()\n",
        "for j in range(Q_test-1):\n",
        "  f, t, Sxx = signal.spectrogram(RSG_test[0+j:window_len+j], fs=1/120,nfft=2**13)\n",
        "  inter=20*np.log10(cp.deepcopy(Sxx[0:1000,:]))\n",
        "  Spectro_test[:,:,j]=inter\n",
        "  Y_test.append(RSG_test[window_len+j])\n",
        "min=np.min(Spectro)\n",
        "max=np.max(Spectro)\n",
        "Spec_scaled=(-1/(min-max))*(Spectro-max)+1\n",
        "min1=np.min(Spectro_test)\n",
        "max1=np.max(Spectro_test)\n",
        "Spec_test_scaled=(-1/(min1-max1))*(Spectro_test-max1)+1\n",
        "Y = np.array(Y)\n",
        "Y_test=np.array(Y_test)\n",
        "scaler=MinMaxScaler()\n",
        "scaler.fit(Y.reshape(-1,1))  \n",
        "Y_scaled=scaler.transform(Y.reshape(-1,1))\n",
        "Y_test_scaled=scaler.transform(Y_test.reshape(-1,1))\n",
        "  \n",
        "  "
      ]
    },
    {
      "cell_type": "code",
      "source": [
        "def autocorr_matrix(x,order):\n",
        "    R = np.zeros((order, order))\n",
        "    for i in range(0,order):\n",
        "        for j in range(0,order):\n",
        "            R[i,j] = autocorrelate(x, abs(i-j))\n",
        "    return R\n",
        "def autocorrelate(x,lag):\n",
        "    return np.correlate(x[0:len(x)-lag],x[lag:len(x)])"
      ],
      "metadata": {
        "id": "dKvdNrmrku1N"
      },
      "execution_count": 20,
      "outputs": []
    },
    {
      "cell_type": "code",
      "source": [
        "taille=30\n",
        "longueur=len(RSG_train)\n",
        "longueur_test=len(RSG_test)"
      ],
      "metadata": {
        "id": "U8vz-bi9gB9H"
      },
      "execution_count": 21,
      "outputs": []
    },
    {
      "cell_type": "code",
      "source": [
        "autocor=np.zeros((taille,taille,longueur-taille))\n",
        "autocor_test=np.zeros((taille,taille,longueur_test-taille))"
      ],
      "metadata": {
        "id": "_guWhC-Rlbkj"
      },
      "execution_count": 22,
      "outputs": []
    },
    {
      "cell_type": "code",
      "source": [
        "y_auto=[]\n",
        "y_auto_test=[]\n",
        "for j in range(longueur-taille):\n",
        "  sig=RSG_train[j:j+taille]\n",
        "  Auto_inter=autocorr_matrix(sig,taille)\n",
        "  autocor[:,:,j]=Auto_inter\n",
        "  y_auto.append(RSG_train[(j+taille)])\n",
        "for j in range(longueur_test-taille):\n",
        "  sig=RSG_test[j:j+taille]\n",
        "  Auto_inter=autocorr_matrix(sig,taille)\n",
        "  autocor_test[:,:,j]=Auto_inter\n",
        "  y_auto_test.append(RSG_train[(j+taille)])\n",
        "y_auto=np.array(y_auto)\n",
        "y_auto_test=np.array(y_auto_test)\n",
        "scaler2=MinMaxScaler()\n",
        "scaler2_test=MinMaxScaler()\n",
        "scaler2.fit(y_auto.reshape(-1,1))\n",
        "scaler2_test.fit(y_auto_test.reshape(-1,1))\n",
        "y_auto_scaled=scaler2.transform(y_auto.reshape(-1,1))\n",
        "y_auto_test_scaled=scaler2_test.transform(y_auto_test.reshape(-1,1))\n",
        "min_a=np.amin(autocor)\n",
        "max_a=np.amax(autocor)\n",
        "autocor_scaled=(-1/(min_a-max_a))*(autocor-max_a)+1\n",
        "min_a_test=np.amin(autocor_test)\n",
        "max_a_test=np.amax(autocor_test)\n",
        "autocor_test_scaled=(-1/(min_a_test-max_a_test))*(autocor_test-max_a_test)+1"
      ],
      "metadata": {
        "id": "IJZUv3NWluaT"
      },
      "execution_count": 23,
      "outputs": []
    },
    {
      "cell_type": "code",
      "source": [
        ""
      ],
      "metadata": {
        "id": "MMCc7gNhrNiK"
      },
      "execution_count": 23,
      "outputs": []
    },
    {
      "cell_type": "code",
      "execution_count": 24,
      "metadata": {
        "id": "TsGT4oo9xhNI"
      },
      "outputs": [],
      "source": [
        "from sklearn.preprocessing import MinMaxScaler"
      ]
    },
    {
      "cell_type": "code",
      "execution_count": 24,
      "metadata": {
        "id": "wD3LLUoNIpvX"
      },
      "outputs": [],
      "source": [
        ""
      ]
    },
    {
      "cell_type": "code",
      "execution_count": 25,
      "metadata": {
        "colab": {
          "base_uri": "https://localhost:8080/"
        },
        "id": "MRp0qdWvx82G",
        "outputId": "5dc750ce-1add-4df8-89d7-b1e214650e28"
      },
      "outputs": [
        {
          "output_type": "stream",
          "name": "stdout",
          "text": [
            "(9387, 1000, 11, 1)\n"
          ]
        }
      ],
      "source": [
        "Spec_scaled = np.array(Spec_scaled).reshape(Q-1,1000,11,1)\n",
        "Spec_test_scaled=np.array(Spec_test_scaled).reshape(Q_test-1,1000,11,1)\n",
        "print(Spec_scaled.shape)"
      ]
    },
    {
      "cell_type": "code",
      "execution_count": 26,
      "metadata": {
        "id": "pVlV3JP8xhKk"
      },
      "outputs": [],
      "source": [
        "cnn = models.Sequential([\n",
        "    layers.Conv2D(filters=32, kernel_size=(3, 3), activation='relu', input_shape=(1000, 11, 1)),\n",
        "    layers.MaxPooling2D((2, 2)),\n",
        "    \n",
        "    layers.Flatten(),\n",
        "    layers.Dense(64, activation='relu'),\n",
        "    layers.Dense(1, activation='linear')\n",
        "])"
      ]
    },
    {
      "cell_type": "code",
      "execution_count": 27,
      "metadata": {
        "id": "TqEmVkRHxhIO"
      },
      "outputs": [],
      "source": [
        "N=100\n",
        "#plt.figure(figsize=(7,5))\n",
        "#plt.pcolormesh(Spectro[0,:,:],cmap='jet')\n",
        "#plt.colorbar"
      ]
    },
    {
      "cell_type": "code",
      "execution_count": 28,
      "metadata": {
        "colab": {
          "base_uri": "https://localhost:8080/"
        },
        "id": "cNZYF4jWyNCJ",
        "outputId": "ae8d2dc1-061c-44c1-9c8e-0a1af1132191"
      },
      "outputs": [
        {
          "output_type": "stream",
          "name": "stdout",
          "text": [
            "Epoch 1/20\n",
            "94/94 [==============================] - 38s 393ms/step - loss: 0.8120 - val_loss: 0.0666\n",
            "Epoch 2/20\n",
            "94/94 [==============================] - 37s 392ms/step - loss: 0.0495 - val_loss: 0.0557\n",
            "Epoch 3/20\n",
            "94/94 [==============================] - 37s 392ms/step - loss: 0.0499 - val_loss: 0.0524\n",
            "Epoch 4/20\n",
            "94/94 [==============================] - 37s 393ms/step - loss: 0.0496 - val_loss: 0.0546\n",
            "Epoch 5/20\n",
            "94/94 [==============================] - 37s 393ms/step - loss: 0.0495 - val_loss: 0.0590\n",
            "Epoch 6/20\n",
            "94/94 [==============================] - 38s 405ms/step - loss: 0.0493 - val_loss: 0.0429\n",
            "Epoch 7/20\n",
            "94/94 [==============================] - 37s 394ms/step - loss: 0.0498 - val_loss: 0.0477\n",
            "Epoch 8/20\n",
            "94/94 [==============================] - 38s 403ms/step - loss: 0.0491 - val_loss: 0.0514\n",
            "Epoch 9/20\n",
            "94/94 [==============================] - 37s 394ms/step - loss: 0.0489 - val_loss: 0.0574\n",
            "Epoch 10/20\n",
            "94/94 [==============================] - 37s 394ms/step - loss: 0.0485 - val_loss: 0.0513\n",
            "Epoch 11/20\n",
            "94/94 [==============================] - 37s 394ms/step - loss: 0.0484 - val_loss: 0.0633\n",
            "Epoch 12/20\n",
            "94/94 [==============================] - 37s 395ms/step - loss: 0.0481 - val_loss: 0.0491\n",
            "Epoch 13/20\n",
            "94/94 [==============================] - 37s 394ms/step - loss: 0.0480 - val_loss: 0.0611\n",
            "Epoch 14/20\n",
            "94/94 [==============================] - 37s 395ms/step - loss: 0.0474 - val_loss: 0.0584\n",
            "Epoch 15/20\n",
            "94/94 [==============================] - 38s 408ms/step - loss: 0.0491 - val_loss: 0.0480\n",
            "Epoch 16/20\n",
            "94/94 [==============================] - 37s 396ms/step - loss: 0.0482 - val_loss: 0.0620\n",
            "Epoch 17/20\n",
            "94/94 [==============================] - 37s 396ms/step - loss: 0.0487 - val_loss: 0.0605\n",
            "Epoch 18/20\n",
            "94/94 [==============================] - 37s 395ms/step - loss: 0.0473 - val_loss: 0.0586\n",
            "Epoch 19/20\n",
            "94/94 [==============================] - 37s 393ms/step - loss: 0.0468 - val_loss: 0.0562\n",
            "Epoch 20/20\n",
            "94/94 [==============================] - 37s 394ms/step - loss: 0.0466 - val_loss: 0.0431\n"
          ]
        },
        {
          "output_type": "execute_result",
          "data": {
            "text/plain": [
              "<keras.callbacks.History at 0x7f21723b4910>"
            ]
          },
          "metadata": {},
          "execution_count": 28
        }
      ],
      "source": [
        "autocor_scaled=autocor_scaled.reshape(11858,30,30)\n",
        "autocor_test_scaled=autocor_test_scaled.reshape(2942,30,30)\n",
        "cnn.compile(optimizer='adam',\n",
        "              loss='mse')\n",
        "cnn.fit(Spec_scaled,Y_scaled,epochs=20, verbose=1,batch_size=100,validation_data=(Spec_test_scaled,Y_test_scaled))"
      ]
    },
    {
      "cell_type": "code",
      "execution_count": 29,
      "metadata": {
        "colab": {
          "base_uri": "https://localhost:8080/",
          "height": 282
        },
        "id": "6ekWpjyJcEVi",
        "outputId": "bdea15bb-cd04-4862-976f-4896004ae339"
      },
      "outputs": [
        {
          "output_type": "execute_result",
          "data": {
            "text/plain": [
              "<matplotlib.legend.Legend at 0x7f216dbaaa90>"
            ]
          },
          "metadata": {},
          "execution_count": 29
        },
        {
          "output_type": "display_data",
          "data": {
            "text/plain": [
              "<Figure size 432x288 with 1 Axes>"
            ],
            "image/png": "[encoded data removed]"
          },
          "metadata": {
            "needs_background": "light"
          }
        }
      ],
      "source": [
        "loss_per_epoch = cnn.history.history['loss']\n",
        "loss_vall=cnn.history.history['val_loss']\n",
        "plt.plot(range(len(loss_per_epoch)),loss_per_epoch,label=\"train-loss\")\n",
        "plt.plot(range(len(loss_vall)),loss_vall,label=\"validation-loss\")\n",
        "plt.legend()"
      ]
    },
    {
      "cell_type": "code",
      "execution_count": 30,
      "metadata": {
        "id": "BjzDmWCfcHwf"
      },
      "outputs": [],
      "source": [
        "trainPredict = cnn.predict(Spec_scaled)\n",
        "Y_true=scaler2.inverse_transform(trainPredict)\n",
        "RSG_train=RSG_train.tolist()\n",
        "Y_true=Y_true.tolist()"
      ]
    },
    {
      "cell_type": "code",
      "execution_count": 31,
      "metadata": {
        "id": "7k8ackpUtCCV"
      },
      "outputs": [],
      "source": [
        "Q=0\n",
        "N=9000"
      ]
    },
    {
      "cell_type": "code",
      "execution_count": 32,
      "metadata": {
        "colab": {
          "base_uri": "https://localhost:8080/",
          "height": 294
        },
        "id": "pUhtGO27cHpB",
        "outputId": "87f772fa-7303-490c-acbd-64ee0f6de727"
      },
      "outputs": [
        {
          "output_type": "display_data",
          "data": {
            "text/plain": [
              "<Figure size 432x288 with 1 Axes>"
            ],
            "image/png": "[encoded data removed]"
          },
          "metadata": {
            "needs_background": "light"
          }
        }
      ],
      "source": [
        "plt.suptitle('Time-Series Prediction')\n",
        "plt.plot(range(len(Y_true[Q:Q+N])),Y_true[Q:Q+N],label='Prediction global',c=\"green\")\n",
        "plt.plot(range(len(Y_true[Q:Q+N])),RSG_train[Q:Q+N],label='True value',c=\"red\")\n",
        "plt.legend()\n",
        "plt.show()"
      ]
    }
  ],
  "metadata": {
    "colab": {
      "name": "Cnn 2D.ipynb",
      "provenance": [],
      "authorship_tag": "ABX9TyMvgI+bbMtK4/tka9tb0IDT",
      "include_colab_link": true
    },
    "kernelspec": {
      "display_name": "Python 3",
      "name": "python3"
    },
    "language_info": {
      "name": "python"
    },
    "gpuClass": "standard"
  },
  "nbformat": 4,
  "nbformat_minor": 0
}