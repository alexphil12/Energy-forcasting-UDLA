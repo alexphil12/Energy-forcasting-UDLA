{
  "cells": [
    {
      "cell_type": "markdown",
      "metadata": {
        "id": "view-in-github",
        "colab_type": "text"
      },
      "source": [
        "<a href=\"https://colab.research.google.com/github/alexphil12/Energy-forcasting-UDLA/blob/main/Optimization_of_hyperparameters.ipynb\" target=\"_parent\"><img src=\"https://colab.research.google.com/assets/colab-badge.svg\" alt=\"Open In Colab\"/></a>"
      ]
    },
    {
      "cell_type": "code",
      "execution_count": null,
      "metadata": {
        "id": "fHP1H9LpLY2m"
      },
      "outputs": [],
      "source": [
        "import pandas as pd\n",
        "import matplotlib.pyplot as plt\n",
        "import numpy as np\n",
        "from sklearn.metrics import mean_squared_error\n",
        "from sklearn.metrics import mean_absolute_error\n",
        "from scipy import signal\n",
        "import matplotlib.pyplot as plt\n",
        "import numpy as np\n",
        "import tensorflow as tf\n",
        "import copy as cp\n",
        "from keras.preprocessing.sequence import TimeseriesGenerator"
      ]
    },
    {
      "cell_type": "code",
      "execution_count": null,
      "metadata": {
        "id": "eCzU5cBQMWQe"
      },
      "outputs": [],
      "source": [
        "from sklearn.preprocessing import MinMaxScaler"
      ]
    },
    {
      "cell_type": "code",
      "execution_count": null,
      "metadata": {
        "id": "nL5krfl4tXKP"
      },
      "outputs": [],
      "source": [
        "from tensorflow import keras\n",
        "from keras.models import Sequential\n",
        "from keras.layers import Dense\n",
        "from keras.layers import GRU\n",
        "from keras.layers import SimpleRNN\n",
        "from keras.layers import Dropout\n"
      ]
    },
    {
      "cell_type": "code",
      "execution_count": null,
      "metadata": {
        "id": "CelSpomnLumg"
      },
      "outputs": [],
      "source": [
        "df = pd.read_csv('/content/df_cov_continu_1_1.txt', index_col=0, parse_dates=True,sep=',')\n",
        "N=len(list(df.iloc[:,3]))\n",
        "df_train=df.iloc[0:round(N*0.8),:]\n",
        "df_test=df.iloc[round(N*0.8):N,:]"
      ]
    },
    {
      "cell_type": "code",
      "execution_count": null,
      "metadata": {
        "id": "S_VC3eAVLzRl"
      },
      "outputs": [],
      "source": [
        "mesure=[\"Fecha\",\"Hora\"];\n",
        "mesure.append(\"Voltaje_(R)_[V]\")\t\n",
        "mesure.append(\"Voltaje_(S)_[V]\")\t\n",
        "mesure.append(\"Voltaje_(T)_[V]\")\t\n",
        "mesure.append(\"Voltaje_(RS)_[V]\")\t\n",
        "mesure.append(\"Voltaje_(ST)_[V]\")\t\n",
        "mesure.append(\"Voltaje_(TR)_[V]\")\t\n",
        "mesure.append(\"Corriente_R_[A]\")\t\n",
        "mesure.append(\"Corriente_S_[A]\")\t\n",
        "mesure.append(\"Corriente_T_[A]\")\t\n",
        "mesure.append(\"Potencia_R_[VA]\")\t\n",
        "mesure.append(\"Potencia_S_[VA]\")\t\n",
        "mesure.append(\"Potencia_T_[VA]\")\t\n",
        "mesure.append(\"Potencia_R_[W]\")\t\n",
        "mesure.append(\"Potencia_S_[W]\")\t\n",
        "mesure.append(\"Potencia_T_[W]\")\t\n",
        "mesure.append(\"Potencia_R_[VAR]\")\t\n",
        "mesure.append(\"Potencia_S_[VAR]\")\t\n",
        "mesure.append(\"Potencia_T_[VAR]\")\t\n",
        "mesure.append(\"Corriente_N_[A]\")\t\n",
        "mesure.append(\"Frecuencia_[Hz]\")\t\n",
        "mesure.append(\"not_sure_1\")\t\n",
        "mesure.append(\"not_sure_2\")\t\n",
        "mesure.append(\"not_sure_3\")\t\n",
        "mesure.append(\"Potencia_3F_[KVA]\")\t\n",
        "mesure.append(\"Potencia_3F_[W]\")\t\n",
        "mesure.append(\"Potencia_3F_[VAR]\")\t\n",
        "mesure.append(\"Factor de Potencia\")"
      ]
    },
    {
      "cell_type": "code",
      "execution_count": null,
      "metadata": {
        "colab": {
          "base_uri": "https://localhost:8080/"
        },
        "id": "4duswvYdcQqo",
        "outputId": "3f211cfa-ef0f-43e2-cd16-19033053a977"
      },
      "outputs": [
        {
          "output_type": "stream",
          "name": "stderr",
          "text": [
            "/usr/local/lib/python3.7/dist-packages/pandas/core/frame.py:4913: SettingWithCopyWarning: \n",
            "A value is trying to be set on a copy of a slice from a DataFrame\n",
            "\n",
            "See the caveats in the documentation: https://pandas.pydata.org/pandas-docs/stable/user_guide/indexing.html#returning-a-view-versus-a-copy\n",
            "  errors=errors,\n"
          ]
        }
      ],
      "source": [
        "df_train.drop(columns=[mesure[0],mesure[1]],inplace=True)\n",
        "df_test.drop(columns=[mesure[0],mesure[1]],inplace=True)\n",
        "RSG_train = df_train[mesure[10]].values\n",
        "RSG_test = df_test[mesure[10]].values\n",
        "\n",
        "RSG_train_X_multi=df_train.drop(columns=[\"Potencia_R_[W]\",\"Potencia_S_[W]\",\"Potencia_T_[W]\"])\n",
        "RSG_test_X_multi=df_test.drop(columns=[\"Potencia_R_[W]\",\"Potencia_S_[W]\",\"Potencia_T_[W]\"])\n",
        "RSG_train_Y_multi=df_train.loc[:,[\"Potencia_R_[W]\",\"Potencia_S_[W]\",\"Potencia_T_[W]\"]]\n",
        "RSG_test_Y_multi=df_test.loc[:,[\"Potencia_R_[W]\",\"Potencia_S_[W]\",\"Potencia_T_[W]\"]]\n"
      ]
    },
    {
      "cell_type": "code",
      "execution_count": null,
      "metadata": {
        "id": "NEVmuLPdMZhi"
      },
      "outputs": [],
      "source": [
        "scaler = MinMaxScaler()\n",
        "scaler_test=MinMaxScaler()\n",
        "scaler.fit(RSG_train.reshape(-1,1))\n",
        "scaler_test.fit(RSG_test.reshape(-1,1))\n",
        "scaled_train=scaler.transform(RSG_train.reshape(-1,1))\n",
        "scaled_test=scaler_test.transform(RSG_test.reshape(-1,1))"
      ]
    },
    {
      "cell_type": "code",
      "execution_count": null,
      "metadata": {
        "id": "avGVQcWMOm2z"
      },
      "outputs": [],
      "source": [
        ""
      ]
    },
    {
      "cell_type": "markdown",
      "metadata": {
        "id": "qaFJ0eAkNOjK"
      },
      "source": [
        "CNN part of Data preprocessing"
      ]
    },
    {
      "cell_type": "code",
      "execution_count": null,
      "metadata": {
        "id": "LdIh0tMbNNYI"
      },
      "outputs": [],
      "source": [
        "def split_sequence(sequence, n_steps):\n",
        "\tX, y = list(), list()\n",
        "\tfor i in range(len(sequence)):\n",
        "\t\tend_ix = i + n_steps\n",
        "\t\tif end_ix > len(sequence)-1:\n",
        "\t\t\tbreak\n",
        "\t\tseq_x, seq_y = sequence[i:end_ix], sequence[end_ix]\n",
        "\t\tX.append(seq_x)\n",
        "\t\ty.append(seq_y)\n",
        "\treturn np.array(X), np.array(y)"
      ]
    },
    {
      "cell_type": "code",
      "execution_count": null,
      "metadata": {
        "id": "on230psHNWgj"
      },
      "outputs": [],
      "source": [
        "n_steps=20\n",
        "n_features=1\n",
        "X_CNN,y_CNN=split_sequence(scaled_train,n_steps)\n",
        "X_CNN_test,y_CNN_test=split_sequence(scaled_test,n_steps)"
      ]
    },
    {
      "cell_type": "markdown",
      "metadata": {
        "id": "eU1J3qyfN3JH"
      },
      "source": [
        "LSTM,GRU, CNN  univariate part of Data Preprocessing"
      ]
    },
    {
      "cell_type": "code",
      "execution_count": null,
      "metadata": {
        "id": "MKKKFltjN-FV"
      },
      "outputs": [],
      "source": [
        "n_input = 20\n",
        "n_features = 0\n",
        "train_generator = TimeseriesGenerator(scaled_train, scaled_train, length=n_input, batch_size=10)\n",
        "test_generator= TimeseriesGenerator(scaled_test,scaled_test,length=n_input,batch_size=10)"
      ]
    },
    {
      "cell_type": "markdown",
      "metadata": {
        "id": "IAZGk4-kQzYy"
      },
      "source": [
        "LSTM,GRU,CNN multivairate part of Data Preprocessing"
      ]
    },
    {
      "cell_type": "code",
      "execution_count": null,
      "metadata": {
        "id": "Yhongyw3RL-f"
      },
      "outputs": [],
      "source": [
        "from sklearn.ensemble import RandomForestRegressor\n",
        "from sklearn.feature_selection import SelectFromModel\n",
        "from sklearn.model_selection import RandomizedSearchCV"
      ]
    },
    {
      "cell_type": "markdown",
      "metadata": {
        "id": "iM--Y5WLfEmx"
      },
      "source": [
        "Features selection using Random Forest"
      ]
    },
    {
      "cell_type": "code",
      "execution_count": null,
      "metadata": {
        "id": "SuJqjC0CYZ_O"
      },
      "outputs": [],
      "source": [
        "rf = RandomForestRegressor()"
      ]
    },
    {
      "cell_type": "code",
      "execution_count": null,
      "metadata": {
        "id": "dtWFtN27Z68T"
      },
      "outputs": [],
      "source": [
        "# Number of trees in random forest\n",
        "n_estimators = [100,200,300,400,500]\n",
        "# Number of features to consider at every split\n",
        "max_features = ['auto', 'sqrt']\n",
        "# Maximum number of levels in tree\n",
        "max_depth = [20,50,70,100,200]\n",
        "# Minimum number of samples required to split a node\n",
        "min_samples_split = [2, 5, 10,20,30]\n",
        "# Minimum number of samples required at each leaf node\n",
        "min_samples_leaf = [1, 2, 4]\n",
        "# Method of selecting samples for training each tree\n",
        "bootstrap = [True, False]\n",
        "# Create the random grid\n",
        "random_grid = {'n_estimators': n_estimators,\n",
        "               'max_features': max_features,\n",
        "               'max_depth': max_depth,\n",
        "               'min_samples_split': min_samples_split,\n",
        "               'min_samples_leaf': min_samples_leaf,\n",
        "               'bootstrap': bootstrap}"
      ]
    },
    {
      "cell_type": "code",
      "execution_count": null,
      "metadata": {
        "colab": {
          "base_uri": "https://localhost:8080/"
        },
        "id": "CkmRdKoSaFKg",
        "outputId": "3676a405-d5b6-40a1-af7f-2fd69cd014b5"
      },
      "outputs": [
        {
          "name": "stdout",
          "output_type": "stream",
          "text": [
            "Fitting 3 folds for each of 10 candidates, totalling 30 fits\n"
          ]
        },
        {
          "data": {
            "text/plain": [
              "RandomizedSearchCV(cv=3, estimator=RandomForestRegressor(), n_jobs=-1,\n",
              "                   param_distributions={'bootstrap': [True, False],\n",
              "                                        'max_depth': [20, 50, 70, 100, 200],\n",
              "                                        'max_features': ['auto', 'sqrt'],\n",
              "                                        'min_samples_leaf': [1, 2, 4],\n",
              "                                        'min_samples_split': [2, 5, 10, 20, 30],\n",
              "                                        'n_estimators': [100, 200, 300, 400,\n",
              "                                                         500]},\n",
              "                   random_state=42, verbose=2)"
            ]
          },
          "execution_count": 14,
          "metadata": {},
          "output_type": "execute_result"
        }
      ],
      "source": [
        "# Random search of parameters, using 3 fold cross validation, \n",
        "# search across 100 different combinations, and use all available cores\n",
        "rf_random = RandomizedSearchCV(estimator = rf, param_distributions = random_grid, n_iter = 10, cv = 3, verbose=2, random_state=42, n_jobs = -1)\n",
        "# Fit the random search model\n",
        "rf_random.fit(RSG_train_X_multi,RSG_train_Y_multi)"
      ]
    },
    {
      "cell_type": "code",
      "execution_count": null,
      "metadata": {
        "colab": {
          "base_uri": "https://localhost:8080/"
        },
        "id": "fERLEvIhbw8W",
        "outputId": "38cb6eed-69f5-4d2f-9d0d-98bdb12d7e69"
      },
      "outputs": [
        {
          "data": {
            "text/plain": [
              "{'bootstrap': False,\n",
              " 'max_depth': 70,\n",
              " 'max_features': 'sqrt',\n",
              " 'min_samples_leaf': 1,\n",
              " 'min_samples_split': 5,\n",
              " 'n_estimators': 100}"
            ]
          },
          "execution_count": 15,
          "metadata": {},
          "output_type": "execute_result"
        }
      ],
      "source": [
        "rf_random.best_params_"
      ]
    },
    {
      "cell_type": "code",
      "execution_count": null,
      "metadata": {
        "id": "lhWjgURWbyPU"
      },
      "outputs": [],
      "source": [
        "best_random = rf_random.best_estimator_"
      ]
    },
    {
      "cell_type": "code",
      "execution_count": null,
      "metadata": {
        "colab": {
          "base_uri": "https://localhost:8080/"
        },
        "id": "wzmSYCw5b0qZ",
        "outputId": "44a6065b-c246-4a33-9b99-bdf50d925a89"
      },
      "outputs": [
        {
          "data": {
            "text/plain": [
              "RandomForestRegressor(bootstrap=False, max_depth=70, max_features='sqrt',\n",
              "                      min_samples_split=5)"
            ]
          },
          "execution_count": 17,
          "metadata": {},
          "output_type": "execute_result"
        }
      ],
      "source": [
        "best_random"
      ]
    },
    {
      "cell_type": "code",
      "execution_count": null,
      "metadata": {
        "id": "8UX1ciz8b27t"
      },
      "outputs": [],
      "source": [
        "features = RSG_train_X_multi.columns"
      ]
    },
    {
      "cell_type": "code",
      "execution_count": null,
      "metadata": {
        "colab": {
          "base_uri": "https://localhost:8080/",
          "height": 265
        },
        "id": "sK3_xcFDb4zT",
        "outputId": "69949d26-7552-4e97-9c2b-826358c9029d"
      },
      "outputs": [
        {
          "data": {
            "image/png": "[encoded data removed]",
            "text/plain": [
              "<Figure size 432x288 with 1 Axes>"
            ]
          },
          "metadata": {},
          "output_type": "display_data"
        }
      ],
      "source": [
        "f_i = list(zip(features,best_random.feature_importances_))\n",
        "f_i.sort(key = lambda x : x[1])\n",
        "plt.barh([x[0] for x in f_i],[x[1] for x in f_i])\n",
        "\n",
        "plt.show()"
      ]
    },
    {
      "cell_type": "code",
      "execution_count": null,
      "metadata": {
        "id": "VqTsyF8dnGym"
      },
      "outputs": [],
      "source": [
        "RSG_train_X_multi=RSG_train_X_multi.loc[:,[\"Potencia_3F_[W]\",\"not_sure_3\",\"Potencia_3F_[KVA]\",\"Corriente_T_[A]\",\"Potencia_R_[VA]\",\"Potencia_T_[VA]\",\"Corriente_R_[A]\",\"Potencia_S_[VA]\",\"Potencia_T_[VAR]\",\"Corriente_S_[A]\"]]\n",
        "RSG_test_X_multi=RSG_test_X_multi.loc[:,[\"Potencia_3F_[W]\",\"not_sure_3\",\"Potencia_3F_[KVA]\",\"Corriente_T_[A]\",\"Potencia_R_[VA]\",\"Potencia_T_[VA]\",\"Corriente_R_[A]\",\"Potencia_S_[VA]\",\"Potencia_T_[VAR]\",\"Corriente_S_[A]\"]]"
      ]
    },
    {
      "cell_type": "code",
      "execution_count": null,
      "metadata": {
        "id": "jgG248EiMNmX"
      },
      "outputs": [],
      "source": [
        "scaler_X_multi=MinMaxScaler()\n",
        "scaler_Y_multi=MinMaxScaler()\n",
        "scaler_X_multi.fit(RSG_train_X_multi)\n",
        "scaler_Y_multi.fit(RSG_train_Y_multi)\n",
        "scaled_X_train_multi=scaler_X_multi.transform(RSG_train_X_multi)\n",
        "scaled_X_test_multi=scaler_X_multi.transform(RSG_test_X_multi)\n",
        "scaled_Y_train_multi=scaler_Y_multi.transform(RSG_train_Y_multi)\n",
        "scaled_Y_test_multi=scaler_Y_multi.transform(RSG_test_Y_multi)"
      ]
    },
    {
      "cell_type": "code",
      "execution_count": null,
      "metadata": {
        "id": "AyR72pOQnFyJ"
      },
      "outputs": [],
      "source": [
        "train_generator_multi = TimeseriesGenerator(scaled_X_train_multi, scaled_Y_train_multi, length=n_steps, batch_size=100)\n",
        "test_generator_multi=TimeseriesGenerator(scaled_X_test_multi, scaled_Y_test_multi,length=n_steps,batch_size=100)"
      ]
    },
    {
      "cell_type": "code",
      "execution_count": null,
      "metadata": {
        "id": "O6Q6am2at4jf"
      },
      "outputs": [],
      "source": [
        "X,y=train_generator_multi[0]\n"
      ]
    },
    {
      "cell_type": "code",
      "execution_count": null,
      "metadata": {
        "id": "BpA4R0Kss051"
      },
      "outputs": [],
      "source": [
        "from keras.layers.recurrent_v2 import LSTM\n",
        "# define model\n",
        "n_features=10\n",
        "model = Sequential()\n",
        "model.add(LSTM(30, input_shape=(n_steps,n_features),activation='relu',return_sequences=True))\n",
        "model.add(LSTM(30,activation='relu',return_sequences=False))\n",
        "model.add(Dense(3, activation = \"linear\"))\n",
        "\n",
        "model.compile(loss='mse', optimizer='adam')"
      ]
    },
    {
      "cell_type": "code",
      "execution_count": null,
      "metadata": {
        "colab": {
          "base_uri": "https://localhost:8080/"
        },
        "id": "4ENryDJZtTnJ",
        "outputId": "40e0381f-b143-440c-9fc5-ca731e04f67a"
      },
      "outputs": [
        {
          "name": "stdout",
          "output_type": "stream",
          "text": [
            "Model: \"sequential\"\n",
            "_________________________________________________________________\n",
            " Layer (type)                Output Shape              Param #   \n",
            "=================================================================\n",
            " lstm (LSTM)                 (None, 20, 30)            4920      \n",
            "                                                                 \n",
            " lstm_1 (LSTM)               (None, 30)                7320      \n",
            "                                                                 \n",
            " dense (Dense)               (None, 3)                 93        \n",
            "                                                                 \n",
            "=================================================================\n",
            "Total params: 12,333\n",
            "Trainable params: 12,333\n",
            "Non-trainable params: 0\n",
            "_________________________________________________________________\n"
          ]
        }
      ],
      "source": [
        "model.summary()"
      ]
    },
    {
      "cell_type": "code",
      "execution_count": null,
      "metadata": {
        "colab": {
          "background_save": true,
          "base_uri": "https://localhost:8080/"
        },
        "id": "D3ltG3PNthrO",
        "outputId": "1d1913ba-bb7c-4310-a9ae-9d3a6ae6b48d"
      },
      "outputs": [
        {
          "name": "stdout",
          "output_type": "stream",
          "text": [
            "Epoch 1/100\n",
            "82/82 [==============================] - 10s 72ms/step - loss: 0.0372 - val_loss: 0.0046\n",
            "Epoch 2/100\n",
            "82/82 [==============================] - 8s 103ms/step - loss: 0.0034 - val_loss: 0.0030\n",
            "Epoch 3/100\n",
            "82/82 [==============================] - 12s 141ms/step - loss: 0.0027 - val_loss: 0.0023\n",
            "Epoch 4/100\n",
            "82/82 [==============================] - 6s 68ms/step - loss: 0.0025 - val_loss: 0.0026\n",
            "Epoch 5/100\n",
            "82/82 [==============================] - 6s 67ms/step - loss: 0.0024 - val_loss: 0.0023\n",
            "Epoch 6/100\n",
            "82/82 [==============================] - 6s 75ms/step - loss: 0.0023 - val_loss: 0.0022\n",
            "Epoch 7/100\n",
            "82/82 [==============================] - 5s 67ms/step - loss: 0.0023 - val_loss: 0.0022\n",
            "Epoch 8/100\n",
            "82/82 [==============================] - 6s 68ms/step - loss: 0.0022 - val_loss: 0.0020\n",
            "Epoch 9/100\n",
            "82/82 [==============================] - 6s 68ms/step - loss: 0.0022 - val_loss: 0.0025\n",
            "Epoch 10/100\n",
            "82/82 [==============================] - 6s 68ms/step - loss: 0.0021 - val_loss: 0.0036\n",
            "Epoch 11/100\n",
            "82/82 [==============================] - 6s 68ms/step - loss: 0.0022 - val_loss: 0.0028\n",
            "Epoch 12/100\n",
            "82/82 [==============================] - 6s 71ms/step - loss: 0.0024 - val_loss: 0.0020\n",
            "Epoch 13/100\n",
            "82/82 [==============================] - 6s 67ms/step - loss: 0.0020 - val_loss: 0.0023\n",
            "Epoch 14/100\n",
            "82/82 [==============================] - 6s 68ms/step - loss: 0.0020 - val_loss: 0.0019\n",
            "Epoch 15/100\n",
            "82/82 [==============================] - 6s 68ms/step - loss: 0.0018 - val_loss: 0.0018\n",
            "Epoch 16/100\n",
            "82/82 [==============================] - 6s 68ms/step - loss: 0.0018 - val_loss: 0.0020\n",
            "Epoch 17/100\n",
            "82/82 [==============================] - 6s 67ms/step - loss: 0.0017 - val_loss: 0.0018\n",
            "Epoch 18/100\n",
            "82/82 [==============================] - 6s 67ms/step - loss: 0.0017 - val_loss: 0.0019\n",
            "Epoch 19/100\n",
            "82/82 [==============================] - 5s 67ms/step - loss: 0.0017 - val_loss: 0.0018\n",
            "Epoch 20/100\n",
            "82/82 [==============================] - 6s 68ms/step - loss: 0.0015 - val_loss: 0.0017\n",
            "Epoch 21/100\n",
            "82/82 [==============================] - 5s 66ms/step - loss: 0.0016 - val_loss: 0.0015\n",
            "Epoch 22/100\n",
            "82/82 [==============================] - 6s 75ms/step - loss: 0.0015 - val_loss: 0.0016\n",
            "Epoch 23/100\n",
            "82/82 [==============================] - 6s 69ms/step - loss: 0.0015 - val_loss: 0.0019\n",
            "Epoch 24/100\n",
            "82/82 [==============================] - 6s 72ms/step - loss: 0.0015 - val_loss: 0.0015\n",
            "Epoch 25/100\n",
            "82/82 [==============================] - 6s 69ms/step - loss: 0.0015 - val_loss: 0.0016\n",
            "Epoch 26/100\n",
            "82/82 [==============================] - 5s 66ms/step - loss: 0.0015 - val_loss: 0.0016\n",
            "Epoch 27/100\n",
            "82/82 [==============================] - 6s 69ms/step - loss: 0.0014 - val_loss: 0.0015\n",
            "Epoch 28/100\n",
            "82/82 [==============================] - 6s 67ms/step - loss: 0.0014 - val_loss: 0.0014\n",
            "Epoch 29/100\n",
            "82/82 [==============================] - 6s 68ms/step - loss: 0.0014 - val_loss: 0.0016\n",
            "Epoch 30/100\n",
            "82/82 [==============================] - 6s 68ms/step - loss: 0.0014 - val_loss: 0.0015\n",
            "Epoch 31/100\n",
            "82/82 [==============================] - 6s 67ms/step - loss: 0.0013 - val_loss: 0.0013\n",
            "Epoch 32/100\n",
            "82/82 [==============================] - 6s 68ms/step - loss: 0.0013 - val_loss: 0.0013\n",
            "Epoch 33/100\n",
            "82/82 [==============================] - 6s 67ms/step - loss: 0.0013 - val_loss: 0.0015\n",
            "Epoch 34/100\n",
            "82/82 [==============================] - 6s 69ms/step - loss: 0.0013 - val_loss: 0.0015\n",
            "Epoch 35/100\n",
            "82/82 [==============================] - 6s 68ms/step - loss: 0.0013 - val_loss: 0.0018\n",
            "Epoch 36/100\n",
            "82/82 [==============================] - 5s 67ms/step - loss: 0.0012 - val_loss: 0.0013\n",
            "Epoch 37/100\n",
            "82/82 [==============================] - 6s 69ms/step - loss: 0.0012 - val_loss: 0.0012\n",
            "Epoch 38/100\n",
            "82/82 [==============================] - 6s 70ms/step - loss: 0.0012 - val_loss: 0.0013\n",
            "Epoch 39/100\n",
            "82/82 [==============================] - 6s 67ms/step - loss: 0.0012 - val_loss: 0.0017\n",
            "Epoch 40/100\n",
            "82/82 [==============================] - 6s 68ms/step - loss: 0.0014 - val_loss: 0.0018\n",
            "Epoch 41/100\n",
            "82/82 [==============================] - 5s 67ms/step - loss: 0.0016 - val_loss: 0.0016\n",
            "Epoch 42/100\n",
            "82/82 [==============================] - 5s 65ms/step - loss: 0.0013 - val_loss: 0.0012\n",
            "Epoch 43/100\n",
            "82/82 [==============================] - 5s 65ms/step - loss: 0.0013 - val_loss: 0.0013\n",
            "Epoch 44/100\n",
            "82/82 [==============================] - 5s 66ms/step - loss: 0.0012 - val_loss: 0.0012\n",
            "Epoch 45/100\n",
            "82/82 [==============================] - 6s 68ms/step - loss: 0.0012 - val_loss: 0.0012\n",
            "Epoch 46/100\n",
            "82/82 [==============================] - 5s 65ms/step - loss: 0.0012 - val_loss: 0.0012\n",
            "Epoch 47/100\n",
            "82/82 [==============================] - 5s 67ms/step - loss: 0.0012 - val_loss: 0.0012\n",
            "Epoch 48/100\n",
            "82/82 [==============================] - 5s 65ms/step - loss: 0.0012 - val_loss: 0.0013\n",
            "Epoch 49/100\n",
            "82/82 [==============================] - 5s 66ms/step - loss: 0.0011 - val_loss: 0.0013\n",
            "Epoch 50/100\n",
            "82/82 [==============================] - 7s 81ms/step - loss: 0.0012 - val_loss: 0.0012\n",
            "Epoch 51/100\n",
            "82/82 [==============================] - 6s 73ms/step - loss: 0.0012 - val_loss: 0.0011\n",
            "Epoch 52/100\n",
            "82/82 [==============================] - 5s 66ms/step - loss: 0.0011 - val_loss: 0.0014\n",
            "Epoch 53/100\n",
            "82/82 [==============================] - 5s 66ms/step - loss: 0.0011 - val_loss: 0.0011\n",
            "Epoch 54/100\n",
            "82/82 [==============================] - 5s 66ms/step - loss: 0.0011 - val_loss: 0.0011\n",
            "Epoch 55/100\n",
            "82/82 [==============================] - 6s 67ms/step - loss: 0.0011 - val_loss: 0.0010\n",
            "Epoch 56/100\n",
            "82/82 [==============================] - 6s 67ms/step - loss: 0.0011 - val_loss: 0.0012\n",
            "Epoch 57/100\n",
            "82/82 [==============================] - 5s 66ms/step - loss: 0.0011 - val_loss: 0.0011\n",
            "Epoch 58/100\n",
            "82/82 [==============================] - 6s 68ms/step - loss: 0.0011 - val_loss: 0.0012\n",
            "Epoch 59/100\n",
            "82/82 [==============================] - 5s 66ms/step - loss: 0.0011 - val_loss: 0.0013\n",
            "Epoch 60/100\n",
            "82/82 [==============================] - 5s 66ms/step - loss: 0.0011 - val_loss: 0.0012\n",
            "Epoch 61/100\n",
            "82/82 [==============================] - 6s 68ms/step - loss: 0.0011 - val_loss: 0.0012\n",
            "Epoch 62/100\n",
            "82/82 [==============================] - 6s 67ms/step - loss: 0.0011 - val_loss: 9.8360e-04\n",
            "Epoch 63/100\n",
            "82/82 [==============================] - 5s 66ms/step - loss: 0.0012 - val_loss: 0.0012\n",
            "Epoch 64/100\n",
            "82/82 [==============================] - 5s 67ms/step - loss: 0.0012 - val_loss: 0.0013\n",
            "Epoch 65/100\n",
            "82/82 [==============================] - 6s 69ms/step - loss: 0.0011 - val_loss: 0.0014\n",
            "Epoch 66/100\n",
            "82/82 [==============================] - 6s 71ms/step - loss: 0.0011 - val_loss: 0.0012\n",
            "Epoch 67/100\n",
            "82/82 [==============================] - 6s 67ms/step - loss: 0.0011 - val_loss: 0.0011\n",
            "Epoch 68/100\n",
            "82/82 [==============================] - 6s 67ms/step - loss: 0.0011 - val_loss: 0.0013\n",
            "Epoch 69/100\n",
            "82/82 [==============================] - 5s 67ms/step - loss: 0.0011 - val_loss: 0.0011\n",
            "Epoch 70/100\n",
            "82/82 [==============================] - 6s 69ms/step - loss: 0.0011 - val_loss: 9.9582e-04\n",
            "Epoch 71/100\n",
            "82/82 [==============================] - 5s 65ms/step - loss: 0.0011 - val_loss: 0.0011\n",
            "Epoch 72/100\n",
            "82/82 [==============================] - 5s 67ms/step - loss: 0.0010 - val_loss: 0.0011\n",
            "Epoch 73/100\n",
            "82/82 [==============================] - 5s 64ms/step - loss: 0.0010 - val_loss: 0.0012\n",
            "Epoch 74/100\n",
            "82/82 [==============================] - 5s 65ms/step - loss: 0.0010 - val_loss: 0.0011\n",
            "Epoch 75/100\n",
            "82/82 [==============================] - 5s 66ms/step - loss: 0.0010 - val_loss: 0.0011\n",
            "Epoch 76/100\n",
            "82/82 [==============================] - 5s 65ms/step - loss: 9.9774e-04 - val_loss: 9.8626e-04\n",
            "Epoch 77/100\n",
            "82/82 [==============================] - 5s 67ms/step - loss: 0.0011 - val_loss: 0.0013\n",
            "Epoch 78/100\n",
            "82/82 [==============================] - 5s 64ms/step - loss: 0.0010 - val_loss: 0.0011\n",
            "Epoch 79/100\n",
            "82/82 [==============================] - 6s 68ms/step - loss: 9.9014e-04 - val_loss: 0.0011\n",
            "Epoch 80/100\n",
            "82/82 [==============================] - 6s 68ms/step - loss: 0.0011 - val_loss: 0.0013\n",
            "Epoch 81/100\n",
            "82/82 [==============================] - 5s 65ms/step - loss: 0.0011 - val_loss: 9.7884e-04\n",
            "Epoch 82/100\n",
            "82/82 [==============================] - 5s 65ms/step - loss: 0.0010 - val_loss: 0.0010\n",
            "Epoch 83/100\n",
            "82/82 [==============================] - 5s 66ms/step - loss: 0.0012 - val_loss: 0.0012\n",
            "Epoch 84/100\n",
            "82/82 [==============================] - 5s 64ms/step - loss: 0.0013 - val_loss: 0.0012\n",
            "Epoch 85/100\n",
            "82/82 [==============================] - 5s 65ms/step - loss: 0.0010 - val_loss: 0.0010\n",
            "Epoch 86/100\n",
            "82/82 [==============================] - 5s 65ms/step - loss: 0.0011 - val_loss: 0.0011\n",
            "Epoch 87/100\n",
            "82/82 [==============================] - 5s 65ms/step - loss: 0.0010 - val_loss: 9.9076e-04\n",
            "Epoch 88/100\n",
            "82/82 [==============================] - 5s 66ms/step - loss: 9.8606e-04 - val_loss: 0.0011\n",
            "Epoch 89/100\n",
            "82/82 [==============================] - 5s 66ms/step - loss: 0.0010 - val_loss: 0.0012\n",
            "Epoch 90/100\n",
            "82/82 [==============================] - 5s 65ms/step - loss: 0.0011 - val_loss: 0.0013\n",
            "Epoch 91/100\n",
            "82/82 [==============================] - 5s 66ms/step - loss: 0.0011 - val_loss: 0.0011\n",
            "Epoch 92/100\n",
            "82/82 [==============================] - 5s 65ms/step - loss: 9.8360e-04 - val_loss: 9.9128e-04\n",
            "Epoch 93/100\n",
            "82/82 [==============================] - 5s 65ms/step - loss: 0.0010 - val_loss: 0.0010\n",
            "Epoch 94/100\n",
            "82/82 [==============================] - 6s 67ms/step - loss: 9.8295e-04 - val_loss: 9.5292e-04\n",
            "Epoch 95/100\n",
            "82/82 [==============================] - 5s 66ms/step - loss: 9.7080e-04 - val_loss: 0.0011\n",
            "Epoch 96/100\n",
            "82/82 [==============================] - 6s 67ms/step - loss: 9.7510e-04 - val_loss: 9.5131e-04\n",
            "Epoch 97/100\n",
            "82/82 [==============================] - 5s 66ms/step - loss: 9.5977e-04 - val_loss: 0.0010\n",
            "Epoch 98/100\n",
            "82/82 [==============================] - 5s 67ms/step - loss: 9.7922e-04 - val_loss: 0.0010\n",
            "Epoch 99/100\n",
            "82/82 [==============================] - 5s 66ms/step - loss: 9.5977e-04 - val_loss: 9.8972e-04\n",
            "Epoch 100/100\n",
            "82/82 [==============================] - 5s 67ms/step - loss: 0.0011 - val_loss: 0.0011\n"
          ]
        },
        {
          "data": {
            "text/plain": [
              "<keras.callbacks.History at 0x7f581bfe0dd0>"
            ]
          },
          "execution_count": null,
          "metadata": {},
          "output_type": "execute_result"
        }
      ],
      "source": [
        "model.fit(train_generator_multi, epochs=100,validation_data=test_generator_multi)"
      ]
    },
    {
      "cell_type": "code",
      "execution_count": null,
      "metadata": {
        "colab": {
          "background_save": true
        },
        "id": "vHNR-Ajmw-ZR",
        "outputId": "61124ff5-7711-4ad3-f440-819c642dd55a"
      },
      "outputs": [
        {
          "data": {
            "text/plain": [
              "<matplotlib.legend.Legend at 0x7f58101bfbd0>"
            ]
          },
          "execution_count": null,
          "metadata": {},
          "output_type": "execute_result"
        },
        {
          "data": {
            "image/png": "[encoded data removed]",
            "text/plain": [
              "<Figure size 432x288 with 1 Axes>"
            ]
          },
          "metadata": {},
          "output_type": "display_data"
        }
      ],
      "source": [
        "loss_per_epoch = model.history.history['loss']\n",
        "loss_vall=model.history.history['val_loss']\n",
        "plt.plot(range(len(loss_per_epoch)),loss_per_epoch,label=\"test-loss\")\n",
        "plt.plot(range(len(loss_vall)),loss_vall,label=\"validation-loss\")\n",
        "plt.legend()"
      ]
    },
    {
      "cell_type": "code",
      "execution_count": null,
      "metadata": {
        "colab": {
          "background_save": true
        },
        "id": "KX-9mRsevDl7"
      },
      "outputs": [],
      "source": [
        "N=1000\n",
        "Q=0\n",
        "L_true_R=  list(RSG_train_Y_multi.iloc[n_steps+1+Q:n_steps+1+Q+N,0])\n",
        "L_true_S=  list(RSG_train_Y_multi.iloc[n_steps+1+Q:n_steps+1+Q+N,1])\n",
        "L_true_T=  list(RSG_train_Y_multi.iloc[n_steps+1+Q:n_steps+1+Q+N,2])"
      ]
    },
    {
      "cell_type": "code",
      "execution_count": null,
      "metadata": {
        "colab": {
          "background_save": true
        },
        "id": "7A5IwjRRvPu_"
      },
      "outputs": [],
      "source": [
        "trainPredict = model.predict(train_generator_multi)\n",
        "testPredict = model.predict(test_generator_multi)"
      ]
    },
    {
      "cell_type": "code",
      "execution_count": null,
      "metadata": {
        "colab": {
          "background_save": true
        },
        "id": "DZaBJ8H1vVFc"
      },
      "outputs": [],
      "source": [
        "true_pre_r=scaler_Y_multi.inverse_transform(trainPredict)"
      ]
    },
    {
      "cell_type": "code",
      "execution_count": null,
      "metadata": {
        "colab": {
          "background_save": true
        },
        "id": "3XVoWW4DvYrJ",
        "outputId": "88f6d779-cd6b-41da-b60e-ba51abdca0d2"
      },
      "outputs": [
        {
          "data": {
            "image/png": "[encoded data removed]",
            "text/plain": [
              "<Figure size 432x288 with 1 Axes>"
            ]
          },
          "metadata": {},
          "output_type": "display_data"
        }
      ],
      "source": [
        "plt.plot(range(len(L_true_R)),true_pre_r[Q:Q+N,0],label='Prediction global R')\n",
        "plt.plot(range(len(L_true_R)),true_pre_r[Q:Q+N,1],label='Prediction global S')\n",
        "plt.plot(range(len(L_true_R)),true_pre_r[Q:Q+N,2],label='Prediction global T')\n",
        "plt.plot(range(len(L_true_R)),L_true_R,label='RSG_R')\n",
        "plt.plot(range(len(L_true_S)),L_true_S,label='RSG_S')\n",
        "plt.plot(range(len(L_true_T)),L_true_T,label='RSG_T')\n",
        "plt.legend()\n",
        "plt.show()"
      ]
    },
    {
      "cell_type": "code",
      "execution_count": null,
      "metadata": {
        "colab": {
          "background_save": true
        },
        "id": "V8I07ZwPSTqF"
      },
      "outputs": [],
      "source": [
        ""
      ]
    },
    {
      "cell_type": "code",
      "execution_count": null,
      "metadata": {
        "id": "R2kDHPdeSTnZ"
      },
      "outputs": [],
      "source": [
        "def create_Model(n_input, neurons = 100, layers=3,n_features=9,type_mod=\"LSTM\"):\n",
        "  # define model\n",
        "  model = Sequential()\n",
        "  if(type_mod==\"LSTM\"):\n",
        "    if(layers>1):\n",
        "      model.add(LSTM(neurons, activation='relu', input_shape=(n_input, n_features+1),return_sequences=True))\n",
        "      for i in range(layers-2):\n",
        "        model.add(LSTM(neurons, activation='relu',return_sequences=True))\n",
        "      model.add(LSTM(neurons, activation='relu'))\n",
        "    else:\n",
        "      model.add(LSTM(neurons, activation='relu', input_shape=(n_input, n_features+1)))\n",
        "    model.add(Dense(3))\n",
        "  if(type_mod==\"GRU\"):\n",
        "    if(layers>1):\n",
        "      model.add(GRU(neurons, activation='relu', input_shape=(n_input, n_features+1),return_sequences=True))\n",
        "      for i in range(layers-2):\n",
        "        model.add(GRU(neurons, activation='relu',return_sequences=True))\n",
        "      model.add(GRU(neurons, activation='relu'))\n",
        "    else:\n",
        "      model.add(GRU(neurons, activation='relu', input_shape=(n_input, n_features+1)))\n",
        "    model.add(Dense(3))\n",
        "  if(type_mod==\"RNN\"):\n",
        "    if(layers>1):\n",
        "      model.add(SimpleRNN(neurons, activation='relu', input_shape=(n_input, n_features+1),return_sequences=True))\n",
        "      for i in range(layers-2):\n",
        "        model.add(SimpleRNN(neurons, activation='relu',return_sequences=True))\n",
        "      model.add(SimpleRNN(neurons, activation='relu'))\n",
        "    else:\n",
        "      model.add(SimpleRNN(neurons, activation='relu', input_shape=(n_input, n_features+1)))\n",
        "    model.add(Dense(3))\n",
        "\n",
        "  model.compile(loss='mse', optimizer='adam')\n",
        "  return model"
      ]
    },
    {
      "cell_type": "code",
      "execution_count": null,
      "metadata": {
        "id": "K0tV08WJSTkq"
      },
      "outputs": [],
      "source": [
        "precedent_result=[]"
      ]
    },
    {
      "cell_type": "code",
      "execution_count": null,
      "metadata": {
        "id": "rF_cAjcTSTg5"
      },
      "outputs": [],
      "source": [
        "import json"
      ]
    },
    {
      "cell_type": "code",
      "execution_count": null,
      "metadata": {
        "id": "GE6_AnNXSTaU"
      },
      "outputs": [],
      "source": [
        "with open(\"./drive/MyDrive/DatosInvestigacion/Reccurent_neural_network_result.txt\",'r') as fp:\n",
        "    for line in fp:\n",
        "      precedent_result.append(json.loads(line))"
      ]
    },
    {
      "cell_type": "code",
      "execution_count": null,
      "metadata": {
        "id": "nNRDOY93STPZ"
      },
      "outputs": [],
      "source": [
        "df_precedent_result = pd.DataFrame(precedent_result)"
      ]
    },
    {
      "cell_type": "code",
      "execution_count": null,
      "metadata": {
        "id": "Xtm6YYMhY6l6"
      },
      "outputs": [],
      "source": [
        "already_happen_combination=[]"
      ]
    },
    {
      "cell_type": "code",
      "execution_count": null,
      "metadata": {
        "id": "LR_x1jprZB0U"
      },
      "outputs": [],
      "source": [
        "df_result=df_precedent_result"
      ]
    },
    {
      "cell_type": "code",
      "execution_count": null,
      "metadata": {
        "id": "ZLw_sarkZIxK"
      },
      "outputs": [],
      "source": [
        "for i in range(len(df_result)):\n",
        "  already_happen_combination.append((int(df_result.iloc[i]['N_input']),\n",
        "                                   int(df_result.iloc[i]['Neurons']),\n",
        "                                   int(df_result.iloc[i]['Batch size']),\n",
        "                                   int(df_result.iloc[i]['Number of layer']),\n",
        "                                   str(df_result.iloc[i]['Type of model'])))"
      ]
    },
    {
      "cell_type": "code",
      "execution_count": null,
      "metadata": {
        "colab": {
          "base_uri": "https://localhost:8080/"
        },
        "id": "bFSArOiQ_dCX",
        "outputId": "660dae0c-d476-4ca2-c603-45245e8e07fa"
      },
      "outputs": [
        {
          "output_type": "execute_result",
          "data": {
            "text/plain": [
              "True"
            ]
          },
          "metadata": {},
          "execution_count": 25
        }
      ],
      "source": [
        "(18,50,150,3, \"LSTM\") in already_happen_combination\n",
        "\n"
      ]
    },
    {
      "cell_type": "code",
      "execution_count": null,
      "metadata": {
        "colab": {
          "base_uri": "https://localhost:8080/"
        },
        "id": "5jNr8C7-aCMN",
        "outputId": "8b1f76a5-bad2-4e71-d644-4db28dfecec8"
      },
      "outputs": [
        {
          "output_type": "stream",
          "name": "stdout",
          "text": [
            "{'N_input': 22, 'Neurons': 75, 'Batch size': 200, 'Number of layers': 3, 'Type of model': 'GRU'}\n",
            "BEST\n",
            "RMSE: 1186.856641068258\n",
            "MAE 929.3575165234319\n",
            "min RMSE 1186.856641068258\n",
            "{'N_input': 22, 'Neurons': 100, 'Batch size': 50, 'Number of layers': 1, 'Type of model': 'GRU'}\n",
            "BEST\n",
            "RMSE: 994.6997990326586\n",
            "MAE 771.4680420517087\n",
            "min RMSE 994.6997990326586\n",
            "{'N_input': 22, 'Neurons': 100, 'Batch size': 50, 'Number of layers': 2, 'Type of model': 'GRU'}\n",
            "RMSE: 1181.3707799253898\n",
            "MAE 914.5219102114401\n",
            "min RMSE 994.6997990326586\n",
            "{'N_input': 22, 'Neurons': 100, 'Batch size': 50, 'Number of layers': 3, 'Type of model': 'GRU'}\n",
            "RMSE: 1138.5654997204097\n",
            "MAE 883.8174306937439\n",
            "min RMSE 994.6997990326586\n",
            "{'N_input': 22, 'Neurons': 100, 'Batch size': 100, 'Number of layers': 1, 'Type of model': 'GRU'}\n",
            "RMSE: 1159.1345092751717\n",
            "MAE 910.2308702659105\n",
            "min RMSE 994.6997990326586\n",
            "{'N_input': 22, 'Neurons': 100, 'Batch size': 100, 'Number of layers': 2, 'Type of model': 'GRU'}\n",
            "RMSE: 1149.3746517445004\n",
            "MAE 876.6839818901973\n",
            "min RMSE 994.6997990326586\n",
            "{'N_input': 22, 'Neurons': 100, 'Batch size': 100, 'Number of layers': 3, 'Type of model': 'GRU'}\n",
            "RMSE: 1224.0375753688118\n",
            "MAE 938.9979815366011\n",
            "min RMSE 994.6997990326586\n",
            "{'N_input': 22, 'Neurons': 100, 'Batch size': 150, 'Number of layers': 1, 'Type of model': 'GRU'}\n",
            "RMSE: 1034.0025304785531\n",
            "MAE 786.0201095938327\n",
            "min RMSE 994.6997990326586\n",
            "{'N_input': 22, 'Neurons': 100, 'Batch size': 150, 'Number of layers': 2, 'Type of model': 'GRU'}\n",
            "RMSE: 1061.5464712352514\n",
            "MAE 813.5748011277877\n",
            "min RMSE 994.6997990326586\n",
            "{'N_input': 22, 'Neurons': 100, 'Batch size': 150, 'Number of layers': 3, 'Type of model': 'GRU'}\n",
            "RMSE: 1336.1803402452829\n",
            "MAE 1045.5727766205148\n",
            "min RMSE 994.6997990326586\n",
            "{'N_input': 22, 'Neurons': 100, 'Batch size': 200, 'Number of layers': 1, 'Type of model': 'GRU'}\n",
            "RMSE: 1119.3463533484917\n",
            "MAE 868.4886642588714\n",
            "min RMSE 994.6997990326586\n",
            "{'N_input': 22, 'Neurons': 100, 'Batch size': 200, 'Number of layers': 2, 'Type of model': 'GRU'}\n",
            "RMSE: 1184.6004040838277\n",
            "MAE 929.8778443506652\n",
            "min RMSE 994.6997990326586\n",
            "{'N_input': 22, 'Neurons': 100, 'Batch size': 200, 'Number of layers': 3, 'Type of model': 'GRU'}\n",
            "RMSE: 1129.646271322733\n",
            "MAE 857.1035365571612\n",
            "min RMSE 994.6997990326586\n",
            "{'N_input': 22, 'Neurons': 125, 'Batch size': 50, 'Number of layers': 1, 'Type of model': 'GRU'}\n",
            "BEST\n",
            "RMSE: 955.1455914906421\n",
            "MAE 714.4721244968795\n",
            "min RMSE 955.1455914906421\n",
            "{'N_input': 22, 'Neurons': 125, 'Batch size': 50, 'Number of layers': 2, 'Type of model': 'GRU'}\n",
            "RMSE: 1015.1129588743328\n",
            "MAE 750.7951714270675\n",
            "min RMSE 955.1455914906421\n",
            "{'N_input': 22, 'Neurons': 125, 'Batch size': 50, 'Number of layers': 3, 'Type of model': 'GRU'}\n",
            "RMSE: 990.1928705247332\n",
            "MAE 734.0834408216286\n",
            "min RMSE 955.1455914906421\n",
            "{'N_input': 22, 'Neurons': 125, 'Batch size': 100, 'Number of layers': 1, 'Type of model': 'GRU'}\n",
            "RMSE: 1062.2509519130429\n",
            "MAE 801.8928549643455\n",
            "min RMSE 955.1455914906421\n",
            "{'N_input': 22, 'Neurons': 125, 'Batch size': 100, 'Number of layers': 2, 'Type of model': 'GRU'}\n",
            "RMSE: 1112.5514864838792\n",
            "MAE 868.6993786848517\n",
            "min RMSE 955.1455914906421\n",
            "{'N_input': 22, 'Neurons': 125, 'Batch size': 100, 'Number of layers': 3, 'Type of model': 'GRU'}\n",
            "RMSE: 1180.822460670838\n",
            "MAE 917.5301358998944\n",
            "min RMSE 955.1455914906421\n",
            "{'N_input': 22, 'Neurons': 125, 'Batch size': 150, 'Number of layers': 1, 'Type of model': 'GRU'}\n",
            "RMSE: 1016.3152872506691\n",
            "MAE 768.7253153204333\n",
            "min RMSE 955.1455914906421\n",
            "{'N_input': 22, 'Neurons': 125, 'Batch size': 150, 'Number of layers': 2, 'Type of model': 'GRU'}\n",
            "RMSE: 1225.9053584708352\n",
            "MAE 966.0311993374712\n",
            "min RMSE 955.1455914906421\n",
            "{'N_input': 22, 'Neurons': 125, 'Batch size': 150, 'Number of layers': 3, 'Type of model': 'GRU'}\n",
            "RMSE: 1158.7509423202332\n",
            "MAE 893.1719235435149\n",
            "min RMSE 955.1455914906421\n",
            "{'N_input': 22, 'Neurons': 125, 'Batch size': 200, 'Number of layers': 1, 'Type of model': 'GRU'}\n",
            "RMSE: 1135.0621500665634\n",
            "MAE 863.1587323753494\n",
            "min RMSE 955.1455914906421\n",
            "{'N_input': 22, 'Neurons': 125, 'Batch size': 200, 'Number of layers': 2, 'Type of model': 'GRU'}\n",
            "RMSE: 1136.4251647825702\n",
            "MAE 884.1254160307057\n",
            "min RMSE 955.1455914906421\n",
            "{'N_input': 22, 'Neurons': 125, 'Batch size': 200, 'Number of layers': 3, 'Type of model': 'GRU'}\n",
            "RMSE: 1415.0991212439321\n",
            "MAE 1174.343293843437\n",
            "min RMSE 955.1455914906421\n",
            "{'N_input': 24, 'Neurons': 50, 'Batch size': 50, 'Number of layers': 1, 'Type of model': 'GRU'}\n",
            "RMSE: 1057.3452321686061\n",
            "MAE 782.7749436661069\n",
            "min RMSE 955.1455914906421\n",
            "{'N_input': 24, 'Neurons': 50, 'Batch size': 50, 'Number of layers': 2, 'Type of model': 'GRU'}\n",
            "RMSE: 1061.8909526595974\n",
            "MAE 814.5028880150522\n",
            "min RMSE 955.1455914906421\n",
            "{'N_input': 24, 'Neurons': 50, 'Batch size': 50, 'Number of layers': 3, 'Type of model': 'GRU'}\n",
            "RMSE: 1038.146359482757\n",
            "MAE 801.74990219729\n",
            "min RMSE 955.1455914906421\n",
            "{'N_input': 24, 'Neurons': 50, 'Batch size': 100, 'Number of layers': 1, 'Type of model': 'GRU'}\n",
            "RMSE: 1051.8881388917855\n",
            "MAE 816.956115989481\n",
            "min RMSE 955.1455914906421\n",
            "{'N_input': 24, 'Neurons': 50, 'Batch size': 100, 'Number of layers': 2, 'Type of model': 'GRU'}\n",
            "RMSE: 1218.7772154226982\n",
            "MAE 976.5843077708738\n",
            "min RMSE 955.1455914906421\n",
            "{'N_input': 24, 'Neurons': 50, 'Batch size': 100, 'Number of layers': 3, 'Type of model': 'GRU'}\n",
            "RMSE: 1085.0817651173868\n",
            "MAE 809.6714232875719\n",
            "min RMSE 955.1455914906421\n",
            "{'N_input': 24, 'Neurons': 50, 'Batch size': 150, 'Number of layers': 1, 'Type of model': 'GRU'}\n",
            "RMSE: 1256.8754856011037\n",
            "MAE 973.2806512690645\n",
            "min RMSE 955.1455914906421\n",
            "{'N_input': 24, 'Neurons': 50, 'Batch size': 150, 'Number of layers': 2, 'Type of model': 'GRU'}\n",
            "RMSE: 1176.6273191458376\n",
            "MAE 936.0449362120488\n",
            "min RMSE 955.1455914906421\n",
            "{'N_input': 24, 'Neurons': 50, 'Batch size': 150, 'Number of layers': 3, 'Type of model': 'GRU'}\n",
            "RMSE: 1180.1714634969626\n",
            "MAE 919.0382445700493\n",
            "min RMSE 955.1455914906421\n",
            "{'N_input': 24, 'Neurons': 50, 'Batch size': 200, 'Number of layers': 1, 'Type of model': 'GRU'}\n",
            "RMSE: 1243.382617620143\n",
            "MAE 986.3806353325162\n",
            "min RMSE 955.1455914906421\n",
            "{'N_input': 24, 'Neurons': 50, 'Batch size': 200, 'Number of layers': 2, 'Type of model': 'GRU'}\n",
            "RMSE: 1281.3924667277554\n",
            "MAE 997.9900353855761\n",
            "min RMSE 955.1455914906421\n",
            "{'N_input': 24, 'Neurons': 50, 'Batch size': 200, 'Number of layers': 3, 'Type of model': 'GRU'}\n",
            "RMSE: 1313.2731169962349\n",
            "MAE 1043.6997764829741\n",
            "min RMSE 955.1455914906421\n",
            "{'N_input': 24, 'Neurons': 75, 'Batch size': 50, 'Number of layers': 1, 'Type of model': 'GRU'}\n",
            "RMSE: 1108.0775197615342\n",
            "MAE 863.5915446735995\n",
            "min RMSE 955.1455914906421\n",
            "{'N_input': 24, 'Neurons': 75, 'Batch size': 50, 'Number of layers': 2, 'Type of model': 'GRU'}\n",
            "RMSE: 960.4875346601227\n",
            "MAE 710.4498866294616\n",
            "min RMSE 955.1455914906421\n",
            "{'N_input': 24, 'Neurons': 75, 'Batch size': 50, 'Number of layers': 3, 'Type of model': 'GRU'}\n",
            "RMSE: 1067.7055837267492\n",
            "MAE 826.2480798259949\n",
            "min RMSE 955.1455914906421\n",
            "{'N_input': 24, 'Neurons': 75, 'Batch size': 100, 'Number of layers': 1, 'Type of model': 'GRU'}\n",
            "RMSE: 1012.5961306419003\n",
            "MAE 757.4385484443104\n",
            "min RMSE 955.1455914906421\n",
            "{'N_input': 24, 'Neurons': 75, 'Batch size': 100, 'Number of layers': 2, 'Type of model': 'GRU'}\n",
            "RMSE: 1134.4867112318566\n",
            "MAE 903.4294302476469\n",
            "min RMSE 955.1455914906421\n",
            "{'N_input': 24, 'Neurons': 75, 'Batch size': 100, 'Number of layers': 3, 'Type of model': 'GRU'}\n",
            "RMSE: 1291.531973607644\n",
            "MAE 1049.087921515273\n",
            "min RMSE 955.1455914906421\n",
            "{'N_input': 24, 'Neurons': 75, 'Batch size': 150, 'Number of layers': 1, 'Type of model': 'GRU'}\n",
            "RMSE: 1211.619638799751\n",
            "MAE 942.9871560572898\n",
            "min RMSE 955.1455914906421\n",
            "{'N_input': 24, 'Neurons': 75, 'Batch size': 150, 'Number of layers': 2, 'Type of model': 'GRU'}\n",
            "RMSE: 1130.0083480312571\n",
            "MAE 892.933913375807\n",
            "min RMSE 955.1455914906421\n",
            "{'N_input': 24, 'Neurons': 75, 'Batch size': 150, 'Number of layers': 3, 'Type of model': 'GRU'}\n",
            "RMSE: 1128.2048169089696\n",
            "MAE 880.2063469624909\n",
            "min RMSE 955.1455914906421\n",
            "{'N_input': 24, 'Neurons': 75, 'Batch size': 200, 'Number of layers': 1, 'Type of model': 'GRU'}\n",
            "RMSE: 1132.441362034081\n",
            "MAE 877.4737657939444\n",
            "min RMSE 955.1455914906421\n",
            "{'N_input': 24, 'Neurons': 75, 'Batch size': 200, 'Number of layers': 2, 'Type of model': 'GRU'}\n",
            "RMSE: 1009.8815600055373\n",
            "MAE 746.9496440905859\n",
            "min RMSE 955.1455914906421\n",
            "{'N_input': 24, 'Neurons': 75, 'Batch size': 200, 'Number of layers': 3, 'Type of model': 'GRU'}\n",
            "RMSE: 1091.7495613627955\n",
            "MAE 815.9920440691303\n",
            "min RMSE 955.1455914906421\n",
            "{'N_input': 24, 'Neurons': 100, 'Batch size': 50, 'Number of layers': 1, 'Type of model': 'GRU'}\n",
            "RMSE: 961.8799583038526\n",
            "MAE 693.1602166372469\n",
            "min RMSE 955.1455914906421\n",
            "{'N_input': 24, 'Neurons': 100, 'Batch size': 50, 'Number of layers': 2, 'Type of model': 'GRU'}\n",
            "RMSE: 1014.7700941064926\n",
            "MAE 775.992746721346\n",
            "min RMSE 955.1455914906421\n",
            "{'N_input': 24, 'Neurons': 100, 'Batch size': 50, 'Number of layers': 3, 'Type of model': 'GRU'}\n",
            "RMSE: 1254.0843087184933\n",
            "MAE 1019.6701363140568\n",
            "min RMSE 955.1455914906421\n",
            "{'N_input': 24, 'Neurons': 100, 'Batch size': 100, 'Number of layers': 1, 'Type of model': 'GRU'}\n",
            "RMSE: 1061.4155900449334\n",
            "MAE 799.1067360168967\n",
            "min RMSE 955.1455914906421\n",
            "{'N_input': 24, 'Neurons': 100, 'Batch size': 100, 'Number of layers': 2, 'Type of model': 'GRU'}\n",
            "RMSE: 1075.7093441252669\n",
            "MAE 796.877846363161\n",
            "min RMSE 955.1455914906421\n",
            "{'N_input': 24, 'Neurons': 100, 'Batch size': 100, 'Number of layers': 3, 'Type of model': 'GRU'}\n",
            "RMSE: 1152.5148973503174\n",
            "MAE 897.098606694391\n",
            "min RMSE 955.1455914906421\n",
            "{'N_input': 24, 'Neurons': 100, 'Batch size': 150, 'Number of layers': 1, 'Type of model': 'GRU'}\n",
            "RMSE: 1082.3640654208596\n",
            "MAE 830.7172357239764\n",
            "min RMSE 955.1455914906421\n",
            "{'N_input': 24, 'Neurons': 100, 'Batch size': 150, 'Number of layers': 2, 'Type of model': 'GRU'}\n",
            "RMSE: 972.8907906430312\n",
            "MAE 700.7540143569628\n",
            "min RMSE 955.1455914906421\n",
            "{'N_input': 24, 'Neurons': 100, 'Batch size': 150, 'Number of layers': 3, 'Type of model': 'GRU'}\n",
            "RMSE: 1133.7840895734782\n",
            "MAE 862.2147832760343\n",
            "min RMSE 955.1455914906421\n",
            "{'N_input': 24, 'Neurons': 100, 'Batch size': 200, 'Number of layers': 1, 'Type of model': 'GRU'}\n",
            "RMSE: 1228.797876908673\n",
            "MAE 978.0107074558565\n",
            "min RMSE 955.1455914906421\n",
            "{'N_input': 24, 'Neurons': 100, 'Batch size': 200, 'Number of layers': 2, 'Type of model': 'GRU'}\n",
            "RMSE: 1139.042934834292\n",
            "MAE 897.1826005848135\n",
            "min RMSE 955.1455914906421\n",
            "{'N_input': 24, 'Neurons': 100, 'Batch size': 200, 'Number of layers': 3, 'Type of model': 'GRU'}\n",
            "RMSE: 1329.1712030083909\n",
            "MAE 1069.629781447208\n",
            "min RMSE 955.1455914906421\n",
            "{'N_input': 24, 'Neurons': 125, 'Batch size': 50, 'Number of layers': 1, 'Type of model': 'GRU'}\n",
            "RMSE: 1124.8459090942586\n",
            "MAE 900.3528746447695\n",
            "min RMSE 955.1455914906421\n",
            "{'N_input': 24, 'Neurons': 125, 'Batch size': 50, 'Number of layers': 2, 'Type of model': 'GRU'}\n",
            "RMSE: 985.2155472894871\n",
            "MAE 733.1972105109662\n",
            "min RMSE 955.1455914906421\n",
            "{'N_input': 24, 'Neurons': 125, 'Batch size': 50, 'Number of layers': 3, 'Type of model': 'GRU'}\n",
            "RMSE: 1015.1864030550286\n",
            "MAE 770.9508740653528\n",
            "min RMSE 955.1455914906421\n",
            "{'N_input': 24, 'Neurons': 125, 'Batch size': 100, 'Number of layers': 1, 'Type of model': 'GRU'}\n",
            "RMSE: 1064.2838068265064\n",
            "MAE 804.6526476441742\n",
            "min RMSE 955.1455914906421\n",
            "{'N_input': 24, 'Neurons': 125, 'Batch size': 100, 'Number of layers': 2, 'Type of model': 'GRU'}\n",
            "RMSE: 1000.3903798441152\n",
            "MAE 754.2889731617964\n",
            "min RMSE 955.1455914906421\n",
            "{'N_input': 24, 'Neurons': 125, 'Batch size': 100, 'Number of layers': 3, 'Type of model': 'GRU'}\n",
            "RMSE: 1255.711872533615\n",
            "MAE 997.202475051647\n",
            "min RMSE 955.1455914906421\n",
            "{'N_input': 24, 'Neurons': 125, 'Batch size': 150, 'Number of layers': 1, 'Type of model': 'GRU'}\n",
            "RMSE: 1036.3143470203104\n",
            "MAE 796.067812751167\n",
            "min RMSE 955.1455914906421\n",
            "{'N_input': 24, 'Neurons': 125, 'Batch size': 150, 'Number of layers': 2, 'Type of model': 'GRU'}\n",
            "RMSE: 1151.1737760212811\n",
            "MAE 905.1111047961886\n",
            "min RMSE 955.1455914906421\n",
            "{'N_input': 24, 'Neurons': 125, 'Batch size': 150, 'Number of layers': 3, 'Type of model': 'GRU'}\n",
            "RMSE: 1152.0232240661992\n",
            "MAE 892.7316366005543\n",
            "min RMSE 955.1455914906421\n",
            "{'N_input': 24, 'Neurons': 125, 'Batch size': 200, 'Number of layers': 1, 'Type of model': 'GRU'}\n",
            "RMSE: 1032.8931678140493\n",
            "MAE 766.1890598772061\n",
            "min RMSE 955.1455914906421\n",
            "{'N_input': 24, 'Neurons': 125, 'Batch size': 200, 'Number of layers': 2, 'Type of model': 'GRU'}\n",
            "RMSE: 1031.5854362871305\n",
            "MAE 767.9105028077984\n",
            "min RMSE 955.1455914906421\n",
            "{'N_input': 24, 'Neurons': 125, 'Batch size': 200, 'Number of layers': 3, 'Type of model': 'GRU'}\n",
            "RMSE: 1346.541499708508\n",
            "MAE 1057.5935871393735\n",
            "min RMSE 955.1455914906421\n",
            "{'N_input': 26, 'Neurons': 50, 'Batch size': 50, 'Number of layers': 1, 'Type of model': 'GRU'}\n",
            "RMSE: 982.2728203108028\n",
            "MAE 745.5943845093884\n",
            "min RMSE 955.1455914906421\n",
            "{'N_input': 26, 'Neurons': 50, 'Batch size': 50, 'Number of layers': 2, 'Type of model': 'GRU'}\n",
            "RMSE: 1238.2471459109397\n",
            "MAE 962.7590737795787\n",
            "min RMSE 955.1455914906421\n",
            "{'N_input': 26, 'Neurons': 50, 'Batch size': 50, 'Number of layers': 3, 'Type of model': 'GRU'}\n",
            "RMSE: 992.2280373781425\n",
            "MAE 738.5523032638899\n",
            "min RMSE 955.1455914906421\n",
            "{'N_input': 26, 'Neurons': 50, 'Batch size': 100, 'Number of layers': 1, 'Type of model': 'GRU'}\n",
            "RMSE: 1000.8035035141452\n",
            "MAE 767.2902209728658\n",
            "min RMSE 955.1455914906421\n",
            "{'N_input': 26, 'Neurons': 50, 'Batch size': 100, 'Number of layers': 2, 'Type of model': 'GRU'}\n",
            "RMSE: 1085.6985313377165\n",
            "MAE 826.0903318004115\n",
            "min RMSE 955.1455914906421\n",
            "{'N_input': 26, 'Neurons': 50, 'Batch size': 100, 'Number of layers': 3, 'Type of model': 'GRU'}\n",
            "RMSE: 1193.7266304693067\n",
            "MAE 927.212112959749\n",
            "min RMSE 955.1455914906421\n",
            "{'N_input': 26, 'Neurons': 50, 'Batch size': 150, 'Number of layers': 1, 'Type of model': 'GRU'}\n",
            "RMSE: 1031.244473154171\n",
            "MAE 779.9101038368063\n",
            "min RMSE 955.1455914906421\n",
            "{'N_input': 26, 'Neurons': 50, 'Batch size': 150, 'Number of layers': 2, 'Type of model': 'GRU'}\n",
            "RMSE: 1109.2809192454088\n",
            "MAE 871.1263530857765\n",
            "min RMSE 955.1455914906421\n",
            "{'N_input': 26, 'Neurons': 50, 'Batch size': 150, 'Number of layers': 3, 'Type of model': 'GRU'}\n",
            "RMSE: 1103.7761291178933\n",
            "MAE 847.8501686927733\n",
            "min RMSE 955.1455914906421\n",
            "{'N_input': 26, 'Neurons': 50, 'Batch size': 200, 'Number of layers': 1, 'Type of model': 'GRU'}\n",
            "RMSE: 1176.8341289458738\n",
            "MAE 915.0631879539609\n",
            "min RMSE 955.1455914906421\n",
            "{'N_input': 26, 'Neurons': 50, 'Batch size': 200, 'Number of layers': 2, 'Type of model': 'GRU'}\n",
            "RMSE: 1185.8119623266932\n",
            "MAE 915.5017663670275\n",
            "min RMSE 955.1455914906421\n",
            "{'N_input': 26, 'Neurons': 50, 'Batch size': 200, 'Number of layers': 3, 'Type of model': 'GRU'}\n",
            "RMSE: 1163.3308418236377\n",
            "MAE 883.4427010127315\n",
            "min RMSE 955.1455914906421\n",
            "{'N_input': 26, 'Neurons': 75, 'Batch size': 50, 'Number of layers': 1, 'Type of model': 'GRU'}\n",
            "RMSE: 1027.52294952436\n",
            "MAE 804.5409601311734\n",
            "min RMSE 955.1455914906421\n",
            "{'N_input': 26, 'Neurons': 75, 'Batch size': 50, 'Number of layers': 2, 'Type of model': 'GRU'}\n",
            "RMSE: 1054.6477641328686\n",
            "MAE 818.7034320396093\n",
            "min RMSE 955.1455914906421\n",
            "{'N_input': 26, 'Neurons': 75, 'Batch size': 50, 'Number of layers': 3, 'Type of model': 'GRU'}\n",
            "RMSE: 1092.8710519610668\n",
            "MAE 819.7323944778814\n",
            "min RMSE 955.1455914906421\n",
            "{'N_input': 26, 'Neurons': 75, 'Batch size': 100, 'Number of layers': 1, 'Type of model': 'GRU'}\n",
            "RMSE: 992.8577602470378\n",
            "MAE 730.7206078433655\n",
            "min RMSE 955.1455914906421\n",
            "{'N_input': 26, 'Neurons': 75, 'Batch size': 100, 'Number of layers': 2, 'Type of model': 'GRU'}\n",
            "RMSE: 1035.0736182257158\n",
            "MAE 759.9270197710915\n",
            "min RMSE 955.1455914906421\n",
            "{'N_input': 26, 'Neurons': 75, 'Batch size': 100, 'Number of layers': 3, 'Type of model': 'GRU'}\n",
            "RMSE: 1241.451170421529\n",
            "MAE 963.7074768486377\n",
            "min RMSE 955.1455914906421\n",
            "{'N_input': 26, 'Neurons': 75, 'Batch size': 150, 'Number of layers': 1, 'Type of model': 'GRU'}\n",
            "RMSE: 1082.0627872810885\n",
            "MAE 831.6906421193416\n",
            "min RMSE 955.1455914906421\n",
            "{'N_input': 26, 'Neurons': 75, 'Batch size': 150, 'Number of layers': 2, 'Type of model': 'GRU'}\n",
            "RMSE: 1085.9223770890933\n",
            "MAE 831.3474830272639\n",
            "min RMSE 955.1455914906421\n",
            "{'N_input': 26, 'Neurons': 75, 'Batch size': 150, 'Number of layers': 3, 'Type of model': 'GRU'}\n",
            "RMSE: 1397.1481510370709\n",
            "MAE 1157.8937089184667\n",
            "min RMSE 955.1455914906421\n",
            "{'N_input': 26, 'Neurons': 75, 'Batch size': 200, 'Number of layers': 1, 'Type of model': 'GRU'}\n",
            "RMSE: 1201.6047732568898\n",
            "MAE 943.8230663220161\n",
            "min RMSE 955.1455914906421\n",
            "{'N_input': 26, 'Neurons': 75, 'Batch size': 200, 'Number of layers': 2, 'Type of model': 'GRU'}\n",
            "RMSE: 1215.9125216064594\n",
            "MAE 946.3083561934158\n",
            "min RMSE 955.1455914906421\n",
            "{'N_input': 26, 'Neurons': 75, 'Batch size': 200, 'Number of layers': 3, 'Type of model': 'GRU'}\n",
            "RMSE: 1318.946274602515\n",
            "MAE 1037.9178887287821\n",
            "min RMSE 955.1455914906421\n",
            "{'N_input': 26, 'Neurons': 100, 'Batch size': 50, 'Number of layers': 1, 'Type of model': 'GRU'}\n",
            "RMSE: 1002.8766367407601\n",
            "MAE 767.1964251485346\n",
            "min RMSE 955.1455914906421\n",
            "{'N_input': 26, 'Neurons': 100, 'Batch size': 50, 'Number of layers': 2, 'Type of model': 'GRU'}\n",
            "BEST\n",
            "RMSE: 954.2148488627834\n",
            "MAE 697.6247949588483\n",
            "min RMSE 954.2148488627834\n",
            "{'N_input': 26, 'Neurons': 100, 'Batch size': 50, 'Number of layers': 3, 'Type of model': 'GRU'}\n",
            "RMSE: 1013.0580928932201\n",
            "MAE 770.3912583339767\n",
            "min RMSE 954.2148488627834\n",
            "{'N_input': 26, 'Neurons': 100, 'Batch size': 100, 'Number of layers': 1, 'Type of model': 'GRU'}\n",
            "RMSE: 1025.1195546495223\n",
            "MAE 776.3420233082571\n",
            "min RMSE 954.2148488627834\n",
            "{'N_input': 26, 'Neurons': 100, 'Batch size': 100, 'Number of layers': 2, 'Type of model': 'GRU'}\n",
            "RMSE: 1084.9508413281378\n",
            "MAE 833.895892468493\n",
            "min RMSE 954.2148488627834\n",
            "{'N_input': 26, 'Neurons': 100, 'Batch size': 100, 'Number of layers': 3, 'Type of model': 'GRU'}\n",
            "RMSE: 1087.0244588728328\n",
            "MAE 826.1796667206794\n",
            "min RMSE 954.2148488627834\n",
            "{'N_input': 26, 'Neurons': 100, 'Batch size': 150, 'Number of layers': 1, 'Type of model': 'GRU'}\n",
            "RMSE: 1142.7653562194944\n",
            "MAE 894.1415249749231\n",
            "min RMSE 954.2148488627834\n",
            "{'N_input': 26, 'Neurons': 100, 'Batch size': 150, 'Number of layers': 2, 'Type of model': 'GRU'}\n",
            "RMSE: 1306.3054886016912\n",
            "MAE 1052.368320717593\n",
            "min RMSE 954.2148488627834\n",
            "{'N_input': 26, 'Neurons': 100, 'Batch size': 150, 'Number of layers': 3, 'Type of model': 'GRU'}\n",
            "RMSE: 1165.7764109859438\n",
            "MAE 906.349469527392\n",
            "min RMSE 954.2148488627834\n",
            "{'N_input': 26, 'Neurons': 100, 'Batch size': 200, 'Number of layers': 1, 'Type of model': 'GRU'}\n",
            "RMSE: 1063.4650917025422\n",
            "MAE 803.9663401678246\n",
            "min RMSE 954.2148488627834\n",
            "{'N_input': 26, 'Neurons': 100, 'Batch size': 200, 'Number of layers': 2, 'Type of model': 'GRU'}\n",
            "RMSE: 1183.9973010849678\n",
            "MAE 934.0449955452672\n",
            "min RMSE 954.2148488627834\n",
            "{'N_input': 26, 'Neurons': 100, 'Batch size': 200, 'Number of layers': 3, 'Type of model': 'GRU'}\n",
            "RMSE: 1199.808986017462\n",
            "MAE 919.4356192020323\n",
            "min RMSE 954.2148488627834\n",
            "{'N_input': 26, 'Neurons': 125, 'Batch size': 50, 'Number of layers': 1, 'Type of model': 'GRU'}\n",
            "RMSE: 986.2648640199421\n",
            "MAE 740.2822863927469\n",
            "min RMSE 954.2148488627834\n",
            "{'N_input': 26, 'Neurons': 125, 'Batch size': 50, 'Number of layers': 2, 'Type of model': 'GRU'}\n",
            "BEST\n",
            "RMSE: 935.223731855961\n",
            "MAE 681.9275646662819\n",
            "min RMSE 935.223731855961\n",
            "{'N_input': 26, 'Neurons': 125, 'Batch size': 50, 'Number of layers': 3, 'Type of model': 'GRU'}\n",
            "RMSE: 1048.960509904794\n",
            "MAE 811.5127789975571\n",
            "min RMSE 935.223731855961\n",
            "{'N_input': 26, 'Neurons': 125, 'Batch size': 100, 'Number of layers': 1, 'Type of model': 'GRU'}\n",
            "RMSE: 1085.2712678433124\n",
            "MAE 847.5701147427984\n",
            "min RMSE 935.223731855961\n",
            "{'N_input': 26, 'Neurons': 125, 'Batch size': 100, 'Number of layers': 2, 'Type of model': 'GRU'}\n",
            "RMSE: 1112.5110710949612\n",
            "MAE 840.7077375469397\n",
            "min RMSE 935.223731855961\n",
            "{'N_input': 26, 'Neurons': 125, 'Batch size': 100, 'Number of layers': 3, 'Type of model': 'GRU'}\n",
            "RMSE: 1327.0412423244184\n",
            "MAE 1050.6506560525975\n",
            "min RMSE 935.223731855961\n",
            "{'N_input': 26, 'Neurons': 125, 'Batch size': 150, 'Number of layers': 1, 'Type of model': 'GRU'}\n",
            "RMSE: 1077.0617689064443\n",
            "MAE 834.9435505716311\n",
            "min RMSE 935.223731855961\n",
            "{'N_input': 26, 'Neurons': 125, 'Batch size': 150, 'Number of layers': 2, 'Type of model': 'GRU'}\n",
            "RMSE: 1110.7191882746185\n",
            "MAE 838.704173318545\n",
            "min RMSE 935.223731855961\n",
            "{'N_input': 26, 'Neurons': 125, 'Batch size': 150, 'Number of layers': 3, 'Type of model': 'GRU'}\n",
            "RMSE: 1147.5423435114346\n",
            "MAE 887.7035391049382\n",
            "min RMSE 935.223731855961\n",
            "{'N_input': 26, 'Neurons': 125, 'Batch size': 200, 'Number of layers': 1, 'Type of model': 'GRU'}\n",
            "RMSE: 1139.356662085152\n",
            "MAE 884.811964393647\n",
            "min RMSE 935.223731855961\n",
            "{'N_input': 26, 'Neurons': 125, 'Batch size': 200, 'Number of layers': 2, 'Type of model': 'GRU'}\n",
            "RMSE: 1375.7373101926366\n",
            "MAE 1145.997951763117\n",
            "min RMSE 935.223731855961\n",
            "{'N_input': 26, 'Neurons': 125, 'Batch size': 200, 'Number of layers': 3, 'Type of model': 'GRU'}\n",
            "RMSE: 1073.616118829683\n",
            "MAE 787.4823745203199\n",
            "min RMSE 935.223731855961\n"
          ]
        }
      ],
      "source": [
        "model_type=[\"LSTM\",\"RNN\",\"GRU\"]\n",
        "min_RMSE=10000\n",
        "for mod_typ in model_type:\n",
        "  for N_input in range(18,28,2): #hasta dos días y medio hacia el pasado\n",
        "    for num_neurons in range(50,126,25): \n",
        "      for batch_size in range(50,201,50):\n",
        "        for num_layers in range(1,4):\n",
        "          if((N_input,num_neurons,batch_size,num_layers,mod_typ) in already_happen_combination):\n",
        "            continue\n",
        "          print({\n",
        "              'N_input':N_input,\n",
        "              'Neurons':num_neurons,\n",
        "              'Batch size':batch_size,\n",
        "              'Number of layers': num_layers,\n",
        "              'Type of model':mod_typ,\n",
        "          })\n",
        "          n_input = N_input # horas hacia atrás\n",
        "          n_output = 3\n",
        "          n_features = 9 # variables exógenas\n",
        "          train_generator_multi_2 = TimeseriesGenerator(scaled_X_train_multi, scaled_Y_train_multi, length=N_input, batch_size=batch_size)\n",
        "          test_generator_multi_2=TimeseriesGenerator(scaled_X_test_multi, scaled_Y_test_multi,length=N_input,batch_size=batch_size)\n",
        "          X,y=train_generator_multi_2[0]\n",
        "          model2 = create_Model(N_input,num_neurons,num_layers,n_features,mod_typ)\n",
        "          model2.fit(train_generator_multi_2, epochs=10,verbose=0)\n",
        "          predictions = model2.predict(test_generator_multi_2)\n",
        "          true_predictions=scaler_Y_multi.inverse_transform(predictions)  \n",
        "          true_values = df_test.iloc[n_input:][[\"Potencia_R_[W]\",\"Potencia_S_[W]\",\"Potencia_T_[W]\"]]\n",
        "\n",
        "          errorMSE = mean_squared_error(true_values,true_predictions)\n",
        "          errorMAE = mean_absolute_error(true_values,true_predictions)\n",
        "          errorRMSE = np.sqrt(errorMSE)\n",
        "          if(errorRMSE<min_RMSE):\n",
        "            print('BEST')\n",
        "            model.save('./drive/MyDrive/DatosInvestigacion/Reccurent_neural_network_result.h5')\n",
        "            min_RMSE = errorRMSE\n",
        "\n",
        "          print('RMSE:',errorRMSE)\n",
        "          print('MAE',errorMAE)\n",
        "          print('min RMSE',min_RMSE)\n",
        "          resultado = {\n",
        "            'N_input':N_input,\n",
        "            'Neurons':num_neurons,\n",
        "            'Batch size':batch_size,\n",
        "            'Number of layer': num_layers,\n",
        "            'Type of model':mod_typ,\n",
        "            'MSE':errorMSE,\n",
        "            'MAE':errorMAE,\n",
        "            'RMSE':errorRMSE\n",
        "        }\n",
        "          with open(\"./drive/MyDrive/DatosInvestigacion/Reccurent_neural_network_result.txt\",\"a\") as file:\n",
        "            resultado = json.dumps(resultado)\n",
        "            file.write(resultado)\n",
        "            file.write('\\n')"
      ]
    },
    {
      "cell_type": "code",
      "source": [
        "precedent_result1=[]"
      ],
      "metadata": {
        "id": "ASAqXmDcma1V"
      },
      "execution_count": null,
      "outputs": []
    },
    {
      "cell_type": "code",
      "source": [
        "with open(\"./drive/MyDrive/DatosInvestigacion/Reccurent_neural_network_result.txt\",'r') as fp:\n",
        "    for line in fp:\n",
        "      precedent_result1.append(json.loads(line))"
      ],
      "metadata": {
        "id": "tsJI9X3Qgp5J"
      },
      "execution_count": null,
      "outputs": []
    },
    {
      "cell_type": "code",
      "source": [
        "df_result = pd.DataFrame(precedent_result1)"
      ],
      "metadata": {
        "id": "UBkv1FzXgrM_"
      },
      "execution_count": null,
      "outputs": []
    },
    {
      "cell_type": "code",
      "source": [
        "best_param_s=df_result[df_result['RMSE']==df_result['RMSE'].min()]\n",
        "best_param2=df_result[df_result['MAE']==df_result['MAE'].min()]\n",
        "print(best_param_s)"
      ],
      "metadata": {
        "colab": {
          "base_uri": "https://localhost:8080/"
        },
        "id": "wucymBPygx3J",
        "outputId": "fb598a5f-9cbe-446f-ac16-c87574afda93"
      },
      "execution_count": null,
      "outputs": [
        {
          "output_type": "stream",
          "name": "stdout",
          "text": [
            "     N_input  Neurons  Batch size  Number of layer Type of model  \\\n",
            "276       18      125          50                1           RNN   \n",
            "\n",
            "               MSE         MAE        RMSE  \n",
            "276  668801.793758  570.670605  817.803029  \n"
          ]
        }
      ]
    },
    {
      "cell_type": "code",
      "source": [
        "df_result.head(-1)"
      ],
      "metadata": {
        "colab": {
          "base_uri": "https://localhost:8080/",
          "height": 424
        },
        "id": "2t7UCqPvykwL",
        "outputId": "a3addfc0-5ced-469f-bb04-8eb2d4e267a7"
      },
      "execution_count": null,
      "outputs": [
        {
          "output_type": "execute_result",
          "data": {
            "text/plain": [
              "     N_input  Neurons  Batch size  Number of layer Type of model  \\\n",
              "0         18       50          50                1          LSTM   \n",
              "1         18       50          50                2          LSTM   \n",
              "2         18       50          50                3          LSTM   \n",
              "3         18       50         100                1          LSTM   \n",
              "4         18       50         100                2          LSTM   \n",
              "..       ...      ...         ...              ...           ...   \n",
              "714       26      125         150                1           GRU   \n",
              "715       26      125         150                2           GRU   \n",
              "716       26      125         150                3           GRU   \n",
              "717       26      125         200                1           GRU   \n",
              "718       26      125         200                2           GRU   \n",
              "\n",
              "              MSE          MAE         RMSE  \n",
              "0    1.273778e+06   877.160538  1128.617818  \n",
              "1    1.078209e+06   766.257324  1038.368659  \n",
              "2    1.978462e+06  1065.955094  1406.578098  \n",
              "3    1.634014e+06   989.666705  1278.285618  \n",
              "4    1.440096e+06   901.067377  1200.040122  \n",
              "..            ...          ...          ...  \n",
              "714  1.160062e+06   834.943551  1077.061769  \n",
              "715  1.233697e+06   838.704173  1110.719188  \n",
              "716  1.316853e+06   887.703539  1147.542344  \n",
              "717  1.298134e+06   884.811964  1139.356662  \n",
              "718  1.892653e+06  1145.997952  1375.737310  \n",
              "\n",
              "[719 rows x 8 columns]"
            ],
            "text/html": [
              "\n",
              "  <div id=\"df-d03f29fc-da66-4b1a-83e5-27b4b52baac6\">\n",
              "    <div class=\"colab-df-container\">\n",
              "      <div>\n",
              "<style scoped>\n",
              "    .dataframe tbody tr th:only-of-type {\n",
              "        vertical-align: middle;\n",
              "    }\n",
              "\n",
              "    .dataframe tbody tr th {\n",
              "        vertical-align: top;\n",
              "    }\n",
              "\n",
              "    .dataframe thead th {\n",
              "        text-align: right;\n",
              "    }\n",
              "</style>\n",
              "<table border=\"1\" class=\"dataframe\">\n",
              "  <thead>\n",
              "    <tr style=\"text-align: right;\">\n",
              "      <th></th>\n",
              "      <th>N_input</th>\n",
              "      <th>Neurons</th>\n",
              "      <th>Batch size</th>\n",
              "      <th>Number of layer</th>\n",
              "      <th>Type of model</th>\n",
              "      <th>MSE</th>\n",
              "      <th>MAE</th>\n",
              "      <th>RMSE</th>\n",
              "    </tr>\n",
              "  </thead>\n",
              "  <tbody>\n",
              "    <tr>\n",
              "      <th>0</th>\n",
              "      <td>18</td>\n",
              "      <td>50</td>\n",
              "      <td>50</td>\n",
              "      <td>1</td>\n",
              "      <td>LSTM</td>\n",
              "      <td>1.273778e+06</td>\n",
              "      <td>877.160538</td>\n",
              "      <td>1128.617818</td>\n",
              "    </tr>\n",
              "    <tr>\n",
              "      <th>1</th>\n",
              "      <td>18</td>\n",
              "      <td>50</td>\n",
              "      <td>50</td>\n",
              "      <td>2</td>\n",
              "      <td>LSTM</td>\n",
              "      <td>1.078209e+06</td>\n",
              "      <td>766.257324</td>\n",
              "      <td>1038.368659</td>\n",
              "    </tr>\n",
              "    <tr>\n",
              "      <th>2</th>\n",
              "      <td>18</td>\n",
              "      <td>50</td>\n",
              "      <td>50</td>\n",
              "      <td>3</td>\n",
              "      <td>LSTM</td>\n",
              "      <td>1.978462e+06</td>\n",
              "      <td>1065.955094</td>\n",
              "      <td>1406.578098</td>\n",
              "    </tr>\n",
              "    <tr>\n",
              "      <th>3</th>\n",
              "      <td>18</td>\n",
              "      <td>50</td>\n",
              "      <td>100</td>\n",
              "      <td>1</td>\n",
              "      <td>LSTM</td>\n",
              "      <td>1.634014e+06</td>\n",
              "      <td>989.666705</td>\n",
              "      <td>1278.285618</td>\n",
              "    </tr>\n",
              "    <tr>\n",
              "      <th>4</th>\n",
              "      <td>18</td>\n",
              "      <td>50</td>\n",
              "      <td>100</td>\n",
              "      <td>2</td>\n",
              "      <td>LSTM</td>\n",
              "      <td>1.440096e+06</td>\n",
              "      <td>901.067377</td>\n",
              "      <td>1200.040122</td>\n",
              "    </tr>\n",
              "    <tr>\n",
              "      <th>...</th>\n",
              "      <td>...</td>\n",
              "      <td>...</td>\n",
              "      <td>...</td>\n",
              "      <td>...</td>\n",
              "      <td>...</td>\n",
              "      <td>...</td>\n",
              "      <td>...</td>\n",
              "      <td>...</td>\n",
              "    </tr>\n",
              "    <tr>\n",
              "      <th>714</th>\n",
              "      <td>26</td>\n",
              "      <td>125</td>\n",
              "      <td>150</td>\n",
              "      <td>1</td>\n",
              "      <td>GRU</td>\n",
              "      <td>1.160062e+06</td>\n",
              "      <td>834.943551</td>\n",
              "      <td>1077.061769</td>\n",
              "    </tr>\n",
              "    <tr>\n",
              "      <th>715</th>\n",
              "      <td>26</td>\n",
              "      <td>125</td>\n",
              "      <td>150</td>\n",
              "      <td>2</td>\n",
              "      <td>GRU</td>\n",
              "      <td>1.233697e+06</td>\n",
              "      <td>838.704173</td>\n",
              "      <td>1110.719188</td>\n",
              "    </tr>\n",
              "    <tr>\n",
              "      <th>716</th>\n",
              "      <td>26</td>\n",
              "      <td>125</td>\n",
              "      <td>150</td>\n",
              "      <td>3</td>\n",
              "      <td>GRU</td>\n",
              "      <td>1.316853e+06</td>\n",
              "      <td>887.703539</td>\n",
              "      <td>1147.542344</td>\n",
              "    </tr>\n",
              "    <tr>\n",
              "      <th>717</th>\n",
              "      <td>26</td>\n",
              "      <td>125</td>\n",
              "      <td>200</td>\n",
              "      <td>1</td>\n",
              "      <td>GRU</td>\n",
              "      <td>1.298134e+06</td>\n",
              "      <td>884.811964</td>\n",
              "      <td>1139.356662</td>\n",
              "    </tr>\n",
              "    <tr>\n",
              "      <th>718</th>\n",
              "      <td>26</td>\n",
              "      <td>125</td>\n",
              "      <td>200</td>\n",
              "      <td>2</td>\n",
              "      <td>GRU</td>\n",
              "      <td>1.892653e+06</td>\n",
              "      <td>1145.997952</td>\n",
              "      <td>1375.737310</td>\n",
              "    </tr>\n",
              "  </tbody>\n",
              "</table>\n",
              "<p>719 rows × 8 columns</p>\n",
              "</div>\n",
              "      <button class=\"colab-df-convert\" onclick=\"convertToInteractive('df-d03f29fc-da66-4b1a-83e5-27b4b52baac6')\"\n",
              "              title=\"Convert this dataframe to an interactive table.\"\n",
              "              style=\"display:none;\">\n",
              "        \n",
              "  <svg xmlns=\"http://www.w3.org/2000/svg\" height=\"24px\"viewBox=\"0 0 24 24\"\n",
              "       width=\"24px\">\n",
              "    <path d=\"M0 0h24v24H0V0z\" fill=\"none\"/>\n",
              "    <path d=\"M18.56 5.44l.94 2.06.94-2.06 2.06-.94-2.06-.94-.94-2.06-.94 2.06-2.06.94zm-11 1L8.5 8.5l.94-2.06 2.06-.94-2.06-.94L8.5 2.5l-.94 2.06-2.06.94zm10 10l.94 2.06.94-2.06 2.06-.94-2.06-.94-.94-2.06-.94 2.06-2.06.94z\"/><path d=\"M17.41 7.96l-1.37-1.37c-.4-.4-.92-.59-1.43-.59-.52 0-1.04.2-1.43.59L10.3 9.45l-7.72 7.72c-.78.78-.78 2.05 0 2.83L4 21.41c.39.39.9.59 1.41.59.51 0 1.02-.2 1.41-.59l7.78-7.78 2.81-2.81c.8-.78.8-2.07 0-2.86zM5.41 20L4 18.59l7.72-7.72 1.47 1.35L5.41 20z\"/>\n",
              "  </svg>\n",
              "      </button>\n",
              "      \n",
              "  <style>\n",
              "    .colab-df-container {\n",
              "      display:flex;\n",
              "      flex-wrap:wrap;\n",
              "      gap: 12px;\n",
              "    }\n",
              "\n",
              "    .colab-df-convert {\n",
              "      background-color: #E8F0FE;\n",
              "      border: none;\n",
              "      border-radius: 50%;\n",
              "      cursor: pointer;\n",
              "      display: none;\n",
              "      fill: #1967D2;\n",
              "      height: 32px;\n",
              "      padding: 0 0 0 0;\n",
              "      width: 32px;\n",
              "    }\n",
              "\n",
              "    .colab-df-convert:hover {\n",
              "      background-color: #E2EBFA;\n",
              "      box-shadow: 0px 1px 2px rgba(60, 64, 67, 0.3), 0px 1px 3px 1px rgba(60, 64, 67, 0.15);\n",
              "      fill: #174EA6;\n",
              "    }\n",
              "\n",
              "    [theme=dark] .colab-df-convert {\n",
              "      background-color: #3B4455;\n",
              "      fill: #D2E3FC;\n",
              "    }\n",
              "\n",
              "    [theme=dark] .colab-df-convert:hover {\n",
              "      background-color: #434B5C;\n",
              "      box-shadow: 0px 1px 3px 1px rgba(0, 0, 0, 0.15);\n",
              "      filter: drop-shadow(0px 1px 2px rgba(0, 0, 0, 0.3));\n",
              "      fill: #FFFFFF;\n",
              "    }\n",
              "  </style>\n",
              "\n",
              "      <script>\n",
              "        const buttonEl =\n",
              "          document.querySelector('#df-d03f29fc-da66-4b1a-83e5-27b4b52baac6 button.colab-df-convert');\n",
              "        buttonEl.style.display =\n",
              "          google.colab.kernel.accessAllowed ? 'block' : 'none';\n",
              "\n",
              "        async function convertToInteractive(key) {\n",
              "          const element = document.querySelector('#df-d03f29fc-da66-4b1a-83e5-27b4b52baac6');\n",
              "          const dataTable =\n",
              "            await google.colab.kernel.invokeFunction('convertToInteractive',\n",
              "                                                     [key], {});\n",
              "          if (!dataTable) return;\n",
              "\n",
              "          const docLinkHtml = 'Like what you see? Visit the ' +\n",
              "            '<a target=\"_blank\" href=https://colab.research.google.com/notebooks/data_table.ipynb>data table notebook</a>'\n",
              "            + ' to learn more about interactive tables.';\n",
              "          element.innerHTML = '';\n",
              "          dataTable['output_type'] = 'display_data';\n",
              "          await google.colab.output.renderOutput(dataTable, element);\n",
              "          const docLink = document.createElement('div');\n",
              "          docLink.innerHTML = docLinkHtml;\n",
              "          element.appendChild(docLink);\n",
              "        }\n",
              "      </script>\n",
              "    </div>\n",
              "  </div>\n",
              "  "
            ]
          },
          "metadata": {},
          "execution_count": 31
        }
      ]
    }
  ],
  "metadata": {
    "colab": {
      "collapsed_sections": [],
      "name": "Optimization of hyperparameters.ipynb",
      "provenance": [],
      "mount_file_id": "1KCOvdg-IcIkae-WSxS1gSwy3ON5oMAZQ",
      "authorship_tag": "ABX9TyNTClVt0a3wBzP9CrSOlFQN",
      "include_colab_link": true
    },
    "gpuClass": "standard",
    "kernelspec": {
      "display_name": "Python 3",
      "name": "python3"
    },
    "language_info": {
      "name": "python"
    }
  },
  "nbformat": 4,
  "nbformat_minor": 0
}